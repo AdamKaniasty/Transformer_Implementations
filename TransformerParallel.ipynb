{
 "cells": [
  {
   "cell_type": "code",
   "execution_count": 31,
   "id": "fd83109d27cae1db",
   "metadata": {
    "collapsed": false,
    "ExecuteTime": {
     "end_time": "2024-03-22T22:19:22.321583695Z",
     "start_time": "2024-03-22T22:19:22.318425359Z"
    }
   },
   "outputs": [],
   "source": [
    "with open(\"input.txt\", encoding='utf-8') as f:\n",
    "    text = f.read()\n",
    "\n",
    "vocab_size = len(set(text))"
   ]
  },
  {
   "cell_type": "code",
   "execution_count": 32,
   "id": "56d610e0a443e539",
   "metadata": {
    "collapsed": false,
    "ExecuteTime": {
     "end_time": "2024-03-22T22:19:22.363833995Z",
     "start_time": "2024-03-22T22:19:22.322246567Z"
    }
   },
   "outputs": [],
   "source": [
    "encoder_map = {c: i for i, c in enumerate(set(text))}\n",
    "decoder_map = {i: c for i, c in enumerate(set(text))}\n",
    "\n",
    "encode = lambda x: [encoder_map[c] for c in x]\n",
    "decode = lambda x: ''.join([decoder_map[i] for i in x])"
   ]
  },
  {
   "cell_type": "code",
   "outputs": [
    {
     "data": {
      "text/plain": "([52, 4, 9, 63, 35, 9, 63, 27, 12, 46, 60], 'Test string')"
     },
     "execution_count": 33,
     "metadata": {},
     "output_type": "execute_result"
    }
   ],
   "source": [
    "encode(\"Test string\"), decode(encode(\"Test string\"))"
   ],
   "metadata": {
    "collapsed": false,
    "ExecuteTime": {
     "end_time": "2024-03-22T22:19:22.366221237Z",
     "start_time": "2024-03-22T22:19:22.364221771Z"
    }
   },
   "id": "d2d306d750fdb8c",
   "execution_count": 33
  },
  {
   "cell_type": "code",
   "outputs": [
    {
     "data": {
      "text/plain": "tensor([49, 12, 27,  9, 63, 35, 57, 12, 63, 12, 41,  4, 46, 33, 42, 11,  4,  3,\n        56, 27,  4, 35, 32,  4, 35])"
     },
     "execution_count": 34,
     "metadata": {},
     "output_type": "execute_result"
    }
   ],
   "source": [
    "import torch\n",
    "\n",
    "data = torch.tensor(encode(text), dtype=torch.long)\n",
    "data[:25]"
   ],
   "metadata": {
    "collapsed": false,
    "ExecuteTime": {
     "end_time": "2024-03-22T22:19:22.450019672Z",
     "start_time": "2024-03-22T22:19:22.364400757Z"
    }
   },
   "id": "487fe73283f4f9d4",
   "execution_count": 34
  },
  {
   "cell_type": "code",
   "outputs": [
    {
     "name": "stdout",
     "output_type": "stream",
     "text": [
      "CUDA Available: True\n"
     ]
    }
   ],
   "source": [
    "print(\"CUDA Available:\", torch.cuda.is_available())"
   ],
   "metadata": {
    "collapsed": false,
    "ExecuteTime": {
     "end_time": "2024-03-22T22:19:22.450727006Z",
     "start_time": "2024-03-22T22:19:22.432482612Z"
    }
   },
   "id": "2adc02134b8e4cb1",
   "execution_count": 35
  },
  {
   "cell_type": "code",
   "outputs": [],
   "source": [
    "split = int(len(data) * 0.8)\n",
    "train_data, val_data = data[:split], data[split:]"
   ],
   "metadata": {
    "collapsed": false,
    "ExecuteTime": {
     "end_time": "2024-03-22T22:19:22.481248046Z",
     "start_time": "2024-03-22T22:19:22.432658101Z"
    }
   },
   "id": "daf08d09f4a66428",
   "execution_count": 36
  },
  {
   "cell_type": "code",
   "outputs": [],
   "source": [
    "torch.manual_seed(2115)\n",
    "batch_size = 32\n",
    "seq_len = 64\n",
    "n_embed = 64\n",
    "num_heads = 8\n",
    "\n",
    "def get_batches(mode):\n",
    "    bath_data = train_data if mode == 'train' else val_data\n",
    "    idx = torch.randint(0, len(bath_data) - seq_len, (batch_size,))\n",
    "    x = torch.stack([bath_data[i:i + seq_len] for i in idx])\n",
    "    y = torch.stack([bath_data[i + 1:i + seq_len + 1] for i in idx])\n",
    "    return x, y\n",
    "\n",
    "\n",
    "xb, yb = get_batches('train')"
   ],
   "metadata": {
    "collapsed": false,
    "ExecuteTime": {
     "end_time": "2024-03-22T22:19:22.481936816Z",
     "start_time": "2024-03-22T22:19:22.474667710Z"
    }
   },
   "id": "38603cf7231ae894",
   "execution_count": 37
  },
  {
   "cell_type": "code",
   "outputs": [],
   "source": [
    "import torch.nn as nn\n",
    "from torch.nn import functional as F\n",
    "\n",
    "\n",
    "class Head(nn.Module):\n",
    "    def __init__(self, head_size):\n",
    "        super().__init__()\n",
    "        self.key = nn.Linear(n_embed, head_size, bias=False)\n",
    "        self.query = nn.Linear(n_embed, head_size, bias=False)\n",
    "        self.value = nn.Linear(n_embed, head_size, bias=False)\n",
    "        self.register_buffer('tril', torch.tril(torch.ones(seq_len, seq_len)))\n",
    "        self.head_size = head_size\n",
    "        self.dropout = nn.Dropout(0.1)\n",
    "\n",
    "    def forward(self, x):\n",
    "        B, T, C = x.shape\n",
    "        k = self.key(x)\n",
    "        q = self.query(x)\n",
    "        v = self.value(x)\n",
    "        weights = q @ k.transpose(-1, -2) * C ** -0.5\n",
    "        weights = weights.masked_fill(self.tril[:T, : T] == 0, float('-inf'))\n",
    "        weights = F.softmax(weights, dim=-1)\n",
    "        weights = self.dropout(weights)\n",
    "        return weights @ v"
   ],
   "metadata": {
    "collapsed": false,
    "ExecuteTime": {
     "end_time": "2024-03-22T22:19:22.482469514Z",
     "start_time": "2024-03-22T22:19:22.474915074Z"
    }
   },
   "id": "7755ea6141bbbcb9",
   "execution_count": 38
  },
  {
   "cell_type": "code",
   "outputs": [],
   "source": [
    "class MultiHead(nn.Module):\n",
    "    def __init__(self, num_heads, head_size):\n",
    "        super().__init__()\n",
    "        self.heads = nn.ModuleList([Head(head_size) for _ in range(num_heads)])\n",
    "        self.proj = nn.Linear(n_embed, n_embed)\n",
    "        self.dropout = nn.Dropout(0.1)\n",
    "\n",
    "    def forward(self, x):\n",
    "        out = torch.cat([h(x) for h in self.heads], dim=-1)\n",
    "        return self.dropout(self.proj(out))"
   ],
   "metadata": {
    "collapsed": false,
    "ExecuteTime": {
     "end_time": "2024-03-22T22:19:22.483013854Z",
     "start_time": "2024-03-22T22:19:22.475062079Z"
    }
   },
   "id": "3bb13f5732a3e657",
   "execution_count": 39
  },
  {
   "cell_type": "code",
   "outputs": [],
   "source": [
    "class FeedForward(nn.Module):\n",
    "    def __init__(self, hidden_size):\n",
    "        super().__init__()\n",
    "        self.net = nn.Sequential(\n",
    "            nn.Linear(hidden_size, 4 * hidden_size),\n",
    "            nn.ReLU(),\n",
    "            nn.Linear(4 * hidden_size, hidden_size),\n",
    "            nn.Dropout(0.1),\n",
    "        )\n",
    "\n",
    "    def forward(self, x):\n",
    "        return self.net(x)"
   ],
   "metadata": {
    "collapsed": false,
    "ExecuteTime": {
     "end_time": "2024-03-22T22:19:22.483594782Z",
     "start_time": "2024-03-22T22:19:22.475228781Z"
    }
   },
   "id": "7631bf1ebdc37a38",
   "execution_count": 40
  },
  {
   "cell_type": "code",
   "outputs": [],
   "source": [
    "class Block(nn.Module):\n",
    "    def __init__(self, n_embed, n_head):\n",
    "        super().__init__()\n",
    "        head_size = n_embed // n_head\n",
    "        self.sa_heads = MultiHead(n_head, head_size)\n",
    "        self.feed_forward = FeedForward(n_embed)\n",
    "        self.layer_norm1 = nn.LayerNorm(n_embed)\n",
    "        self.layer_norm2 = nn.LayerNorm(n_embed)\n",
    "\n",
    "    def forward(self, x):\n",
    "        x = x + self.sa_heads(self.layer_norm1(x))\n",
    "        x = x + self.feed_forward(self.layer_norm2(x))\n",
    "        return x"
   ],
   "metadata": {
    "collapsed": false,
    "ExecuteTime": {
     "end_time": "2024-03-22T22:19:22.484169789Z",
     "start_time": "2024-03-22T22:19:22.475362332Z"
    }
   },
   "id": "3e46d2ed4d9057f6",
   "execution_count": 41
  },
  {
   "cell_type": "code",
   "outputs": [],
   "source": [
    "class BigramLanguageModel(nn.Module):\n",
    "\n",
    "    def __init__(self):\n",
    "        super().__init__()\n",
    "        self.token_embedding_table = nn.Embedding(vocab_size, n_embed)\n",
    "        self.position_embedding_table = nn.Embedding(seq_len, n_embed)\n",
    "        self.blocks = nn.Sequential(*[Block(n_embed, num_heads) for _ in range(6)])\n",
    "        self.layer_norm = nn.LayerNorm(n_embed)\n",
    "        self.lm_head = nn.Linear(n_embed, vocab_size)\n",
    "\n",
    "    def forward(self, idx, targets=None):\n",
    "        B, T = idx.shape\n",
    "        token_embedding = self.token_embedding_table(idx)\n",
    "        position_embedding = self.position_embedding_table(torch.arange(T))\n",
    "        x = token_embedding + position_embedding\n",
    "        x = self.blocks(x)\n",
    "        x = self.layer_norm(x)\n",
    "        logits = self.lm_head(x)\n",
    "\n",
    "        loss = None\n",
    "        if targets is not None:\n",
    "            B, T, C = logits.shape\n",
    "            logits = logits.view(B * T, C)\n",
    "            targets = targets.view(B * T)\n",
    "            loss = F.cross_entropy(logits, targets)\n",
    "\n",
    "        return logits, loss\n",
    "\n",
    "    def generate(self, idx, n):\n",
    "        for _ in range(n):\n",
    "            idx_crop = idx[:, -seq_len:]\n",
    "            logits, _ = self(idx_crop)\n",
    "            logits = logits[:, -1, :]\n",
    "            p = F.softmax(logits, dim=-1)\n",
    "            next_token = torch.multinomial(p, num_samples=1)\n",
    "            idx = torch.cat((idx, next_token), dim=1)\n",
    "        return idx"
   ],
   "metadata": {
    "collapsed": false,
    "ExecuteTime": {
     "end_time": "2024-03-22T22:19:22.484741139Z",
     "start_time": "2024-03-22T22:19:22.475510048Z"
    }
   },
   "id": "a4c34b6342b0c540",
   "execution_count": 42
  },
  {
   "cell_type": "code",
   "outputs": [],
   "source": [
    "m = BigramLanguageModel()"
   ],
   "metadata": {
    "collapsed": false,
    "ExecuteTime": {
     "end_time": "2024-03-22T22:19:22.612816751Z",
     "start_time": "2024-03-22T22:19:22.480312073Z"
    }
   },
   "id": "56546bda66bb7936",
   "execution_count": 43
  },
  {
   "cell_type": "code",
   "outputs": [],
   "source": [
    "@torch.no_grad()\n",
    "def estimate_loss(model, eval_iters=200):\n",
    "    out = {}\n",
    "    model.eval()\n",
    "    for split in ['train', 'val']:\n",
    "        losses = torch.zeros(eval_iters)\n",
    "        for k in range(eval_iters):\n",
    "            X, Y = get_batches(split)\n",
    "            logits, loss = model(X, Y)\n",
    "            losses[k] = loss.item()\n",
    "        out[split] = losses.mean()\n",
    "    model.train()\n",
    "    return out"
   ],
   "metadata": {
    "collapsed": false,
    "ExecuteTime": {
     "end_time": "2024-03-22T22:19:22.658809331Z",
     "start_time": "2024-03-22T22:19:22.615322094Z"
    }
   },
   "id": "98b115d0c225d802",
   "execution_count": 44
  },
  {
   "cell_type": "code",
   "outputs": [],
   "source": [
    "import os\n",
    "\n",
    "def notify_end_of_cell(message=\"Cell execution completed!\"):\n",
    "    os.system(f'notify-send \"Jupyter Cell Notification\" \"{message}\"')"
   ],
   "metadata": {
    "collapsed": false,
    "ExecuteTime": {
     "end_time": "2024-03-22T22:19:22.659698516Z",
     "start_time": "2024-03-22T22:19:22.658723450Z"
    }
   },
   "id": "71db8c4f4cc58692",
   "execution_count": 45
  },
  {
   "cell_type": "code",
   "outputs": [
    {
     "name": "stdout",
     "output_type": "stream",
     "text": [
      "Iter 0, train loss: 1.992, val loss: 2.061\n",
      "Iter 25, train loss: 1.988, val loss: 2.062\n",
      "Iter 50, train loss: 1.985, val loss: 2.059\n",
      "Iter 75, train loss: 1.981, val loss: 2.055\n",
      "Iter 100, train loss: 1.980, val loss: 2.053\n",
      "Iter 125, train loss: 1.978, val loss: 2.050\n",
      "Iter 150, train loss: 1.977, val loss: 2.049\n",
      "Iter 175, train loss: 1.975, val loss: 2.051\n",
      "Iter 200, train loss: 1.975, val loss: 2.052\n",
      "Iter 225, train loss: 1.966, val loss: 2.044\n",
      "Iter 250, train loss: 1.961, val loss: 2.047\n",
      "Iter 275, train loss: 1.959, val loss: 2.039\n",
      "Iter 300, train loss: 1.967, val loss: 2.044\n",
      "Iter 325, train loss: 1.960, val loss: 2.039\n",
      "Iter 350, train loss: 1.956, val loss: 2.039\n",
      "Iter 375, train loss: 1.950, val loss: 2.040\n",
      "Iter 400, train loss: 1.946, val loss: 2.032\n",
      "Iter 425, train loss: 1.949, val loss: 2.038\n",
      "Iter 450, train loss: 1.942, val loss: 2.031\n",
      "Iter 475, train loss: 1.944, val loss: 2.030\n",
      "Iter 500, train loss: 1.942, val loss: 2.026\n",
      "Iter 525, train loss: 1.926, val loss: 2.017\n",
      "Iter 550, train loss: 1.938, val loss: 2.032\n",
      "Iter 575, train loss: 1.930, val loss: 2.024\n",
      "Iter 600, train loss: 1.930, val loss: 2.022\n",
      "Iter 625, train loss: 1.930, val loss: 2.013\n",
      "Iter 650, train loss: 1.924, val loss: 2.009\n",
      "Iter 675, train loss: 1.923, val loss: 2.016\n",
      "Iter 700, train loss: 1.924, val loss: 2.013\n",
      "Iter 725, train loss: 1.921, val loss: 2.003\n",
      "Iter 750, train loss: 1.916, val loss: 2.005\n",
      "Iter 775, train loss: 1.920, val loss: 2.007\n",
      "Iter 800, train loss: 1.916, val loss: 2.001\n",
      "Iter 825, train loss: 1.907, val loss: 2.007\n",
      "Iter 850, train loss: 1.905, val loss: 2.001\n",
      "Iter 875, train loss: 1.909, val loss: 2.004\n",
      "Iter 900, train loss: 1.910, val loss: 1.998\n",
      "Iter 925, train loss: 1.907, val loss: 2.001\n",
      "Iter 950, train loss: 1.900, val loss: 2.001\n",
      "Iter 975, train loss: 1.894, val loss: 1.999\n",
      "1.9188356399536133\n"
     ]
    }
   ],
   "source": [
    "optimizer = torch.optim.Adam(m.parameters(), lr=0.0003)\n",
    "\n",
    "history = []\n",
    "eval_interval = 25\n",
    "max_iter = 1000\n",
    "for iter in range(max_iter):\n",
    "\n",
    "    if iter % eval_interval == 0:\n",
    "        losses = estimate_loss(m)\n",
    "        history.append((iter, losses))\n",
    "        print(f'Iter {iter}, train loss: {losses[\"train\"]:.3f}, val loss: {losses[\"val\"]:.3f}')\n",
    "\n",
    "    x, y = get_batches('train')\n",
    "    logits, loss = m(x, y)\n",
    "    optimizer.zero_grad(set_to_none=True)\n",
    "    loss.backward()\n",
    "    optimizer.step()\n",
    "print(loss.item())\n",
    "notify_end_of_cell()"
   ],
   "metadata": {
    "collapsed": false,
    "ExecuteTime": {
     "end_time": "2024-03-22T22:57:42.566527282Z",
     "start_time": "2024-03-22T22:46:36.423071639Z"
    }
   },
   "id": "873ab0ac2df82323",
   "execution_count": 50
  },
  {
   "cell_type": "code",
   "outputs": [
    {
     "data": {
      "text/plain": "[<matplotlib.lines.Line2D at 0x73faaabb7b50>]"
     },
     "execution_count": 51,
     "metadata": {},
     "output_type": "execute_result"
    },
    {
     "data": {
      "text/plain": "<Figure size 2500x500 with 1 Axes>",
      "image/png": "[encoded data removed]"
     },
     "metadata": {},
     "output_type": "display_data"
    }
   ],
   "source": [
    "import matplotlib.pyplot as plt\n",
    "\n",
    "plt.figure(figsize=(25, 5))\n",
    "\n",
    "x = [h[0] for h in history]\n",
    "y = [h[1]['train'] for h in history]\n",
    "y_val = [h[1]['val'] for h in history]\n",
    "plt.plot(x, y, label='train')\n",
    "plt.plot(x, y_val, label='val')"
   ],
   "metadata": {
    "collapsed": false,
    "ExecuteTime": {
     "end_time": "2024-03-22T22:57:50.914902232Z",
     "start_time": "2024-03-22T22:57:50.706103777Z"
    }
   },
   "id": "11094736f4f7ede6",
   "execution_count": 51
  },
  {
   "cell_type": "code",
   "outputs": [
    {
     "name": "stdout",
     "output_type": "stream",
     "text": [
      "Gomesfur. whe ill let heaves,\n",
      "Thou ener ong: comeq thaves condy wrome you,\n",
      "Bs wiffory drieth, re hizede is wilieng,\n",
      "My baridiel,-rourh, that my or Mordow somes!\n",
      "So sent, Ipom, den trogine an, puce!\n",
      "A of thine han to upore deeak thath sharty and.\n",
      "\n",
      "\n",
      "GLEEXENTER:\n",
      "Were-ZErd:\n",
      "I't, he coust a to seen so bee; ait!\n",
      "\n",
      "AULAPY:\n",
      "I tand age as fuer, yor heaves bee pamath form?\n",
      "Whit shere is of heare; paigitsine-that.\n",
      "\n",
      "QUEESS:\n",
      "It, my Gongh, thollling hap as ond thos as lugmmann thing wruce manein\n",
      "Browed upp boioriad.\n",
      "\n",
      "IO! Cays to they a dewas that.\n",
      "\n",
      "NRUSES:\n",
      "Welike? zit, methal, so shous bak 've nan quee met\n",
      "Whoulce peectar to trowe we corriom:\n",
      "If ather, thou why! a sdaitt se curce.\n",
      "\n",
      "KIth:-hise eckele st, are forse that nerses.\n",
      "\n",
      "ERYO:\n",
      "Alle,\n",
      "Fere don he--purtions.\n",
      "\n",
      "SEDWARLO:\n",
      "Itcoly the whill or canat, me up himbr.\n",
      "\n",
      "JUCETENES:\n",
      "Mard reloar thous hon-fess \n",
      "Thave mase thak too ghatne, I knoce thin\n",
      "And were but froch it in is ith huses, to neee,\n",
      "The hiclcepe of an Meeceanctan on a yof borde that\n",
      "Frrim Egh\n",
      "Bow\n"
     ]
    }
   ],
   "source": [
    "idx = torch.zeros((1, 1), dtype=torch.long)\n",
    "print(decode(m.generate(idx, 1000)[0].tolist()))"
   ],
   "metadata": {
    "collapsed": false,
    "ExecuteTime": {
     "end_time": "2024-03-22T22:58:10.578502917Z",
     "start_time": "2024-03-22T22:57:53.810847350Z"
    }
   },
   "id": "c266e5c673669841",
   "execution_count": 52
  },
  {
   "cell_type": "code",
   "outputs": [],
   "source": [
    "torch.save(m.state_dict(), 'models/parallel_checkpoints_64_2.pth')"
   ],
   "metadata": {
    "collapsed": false,
    "ExecuteTime": {
     "end_time": "2024-03-22T22:58:10.665306531Z",
     "start_time": "2024-03-22T22:58:10.574927891Z"
    }
   },
   "id": "21360823cf1ce48f",
   "execution_count": 53
  },
  {
   "cell_type": "code",
   "outputs": [],
   "source": [],
   "metadata": {
    "collapsed": false,
    "ExecuteTime": {
     "end_time": "2024-03-22T22:46:25.884759532Z",
     "start_time": "2024-03-22T22:46:25.882238340Z"
    }
   },
   "id": "135407e2cc72f178",
   "execution_count": 49
  }
 ],
 "metadata": {
  "kernelspec": {
   "display_name": "Python 3",
   "language": "python",
   "name": "python3"
  },
  "language_info": {
   "codemirror_mode": {
    "name": "ipython",
    "version": 3
   },
   "file_extension": ".py",
   "mimetype": "text/x-python",
   "name": "python",
   "nbconvert_exporter": "python",
   "pygments_lexer": "ipython3",
   "version": "3.11.5"
  }
 },
 "nbformat": 4,
 "nbformat_minor": 5
}
