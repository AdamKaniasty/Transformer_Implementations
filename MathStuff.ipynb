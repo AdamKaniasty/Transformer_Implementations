{
 "cells": [
  {
   "cell_type": "markdown",
   "source": [
    "# Bag of Words"
   ],
   "metadata": {
    "collapsed": false
   },
   "id": "3e92e926c8cb5308"
  },
  {
   "cell_type": "code",
   "outputs": [],
   "source": [
    "import torch\n",
    "from torch.nn import functional as F\n",
    "import torch.nn as nn"
   ],
   "metadata": {
    "collapsed": false,
    "ExecuteTime": {
     "end_time": "2024-03-22T14:18:01.543608488Z",
     "start_time": "2024-03-22T14:18:01.429725414Z"
    }
   },
   "id": "94533f5dedfba09b",
   "execution_count": 24
  },
  {
   "cell_type": "code",
   "execution_count": 18,
   "id": "initial_id",
   "metadata": {
    "collapsed": true,
    "ExecuteTime": {
     "end_time": "2024-03-22T14:12:45.931280588Z",
     "start_time": "2024-03-22T14:12:45.930892710Z"
    }
   },
   "outputs": [],
   "source": [
    "B, T, C = 4, 8, 32\n",
    "x = torch.randn(B, T, C)\n",
    "\n",
    "# X bag of words\n",
    "xbow = torch.zeros((B, T, C))\n",
    "for b in range(B):\n",
    "    for t in range(T):\n",
    "        xbow[b, t] = torch.mean(x[b, :t + 1], 0)"
   ]
  },
  {
   "cell_type": "code",
   "outputs": [],
   "source": [
    "weights = torch.tril(torch.ones(T, T))\n",
    "weights = weights / weights.sum(1, keepdim=True)\n",
    "xbow_vectorized = weights @ x"
   ],
   "metadata": {
    "collapsed": false,
    "ExecuteTime": {
     "end_time": "2024-03-22T14:12:45.931543772Z",
     "start_time": "2024-03-22T14:12:45.931019588Z"
    }
   },
   "id": "cad04e2296d1f920",
   "execution_count": 19
  },
  {
   "cell_type": "code",
   "outputs": [],
   "source": [
    "tril = torch.tril(torch.ones(T, T))\n",
    "weights_s = torch.zeros((T, T))\n",
    "weights_s = weights_s.masked_fill(tril == 0, float('-inf'))\n",
    "weights_s = F.softmax(weights_s, dim=1)\n",
    "xbow_softmax = weights_s @ x"
   ],
   "metadata": {
    "collapsed": false,
    "ExecuteTime": {
     "end_time": "2024-03-22T14:12:45.931966776Z",
     "start_time": "2024-03-22T14:12:45.931080092Z"
    }
   },
   "id": "75f04931d7d14d6e",
   "execution_count": 20
  },
  {
   "cell_type": "code",
   "outputs": [
    {
     "data": {
      "text/plain": "(tensor([ 0.9734,  0.3734,  0.7993,  0.5965, -1.0673, -0.1763,  0.7493, -0.8393,\n         -0.2653,  0.2085, -0.1127,  1.5200,  1.5352, -0.2248,  0.0479,  0.5205,\n         -0.0579, -0.1327, -1.0962, -0.0525, -1.2933, -3.1977,  1.8125, -0.4697,\n          0.8258,  0.3248, -0.4220,  0.9590, -0.1772, -0.6007, -0.6869,  1.2002]),\n tensor([ 0.9734,  0.3734,  0.7993,  0.5965, -1.0673, -0.1763,  0.7493, -0.8393,\n         -0.2653,  0.2085, -0.1127,  1.5200,  1.5352, -0.2248,  0.0479,  0.5205,\n         -0.0579, -0.1327, -1.0962, -0.0525, -1.2933, -3.1977,  1.8125, -0.4697,\n          0.8258,  0.3248, -0.4220,  0.9590, -0.1772, -0.6007, -0.6869,  1.2002]),\n tensor([ 0.9734,  0.3734,  0.7993,  0.5965, -1.0673, -0.1763,  0.7493, -0.8393,\n         -0.2653,  0.2085, -0.1127,  1.5200,  1.5352, -0.2248,  0.0479,  0.5205,\n         -0.0579, -0.1327, -1.0962, -0.0525, -1.2933, -3.1977,  1.8125, -0.4697,\n          0.8258,  0.3248, -0.4220,  0.9590, -0.1772, -0.6007, -0.6869,  1.2002]))"
     },
     "execution_count": 21,
     "metadata": {},
     "output_type": "execute_result"
    }
   ],
   "source": [
    "xbow_vectorized[0][0], xbow_softmax[0][0], xbow[0][0]"
   ],
   "metadata": {
    "collapsed": false,
    "ExecuteTime": {
     "end_time": "2024-03-22T14:12:45.932276867Z",
     "start_time": "2024-03-22T14:12:45.931131007Z"
    }
   },
   "id": "62e97bdcaa00e9a6",
   "execution_count": 21
  },
  {
   "cell_type": "markdown",
   "source": [],
   "metadata": {
    "collapsed": false
   },
   "id": "125766a6cf8e0512"
  },
  {
   "cell_type": "markdown",
   "source": [
    "# Self-attention"
   ],
   "metadata": {
    "collapsed": false
   },
   "id": "85a805cb1d851d71"
  },
  {
   "cell_type": "code",
   "outputs": [],
   "source": [
    "head_size = 16\n",
    "key = nn.Linear(C, head_size, bias=False)\n",
    "query = nn.Linear(C, head_size, bias=False)\n",
    "value = nn.Linear(C, head_size, bias=False)\n",
    "\n",
    "k = key(x)\n",
    "q = query(x)\n",
    "v = value(x)\n",
    "\n",
    "# Scaling by sqrt of head_size to scale down the variance of the weights\n",
    "weights = q @ k.transpose(-1, -2) * head_size**-.5"
   ],
   "metadata": {
    "collapsed": false,
    "ExecuteTime": {
     "end_time": "2024-03-22T14:30:47.547506186Z",
     "start_time": "2024-03-22T14:30:47.499476765Z"
    }
   },
   "id": "d7e25b5019ac9123",
   "execution_count": 39
  },
  {
   "cell_type": "code",
   "outputs": [],
   "source": [
    "tril = torch.tril(torch.ones(T, T))\n",
    "weights = weights.masked_fill(tril == 0, float('-inf'))\n",
    "weights = F.softmax(weights, dim=1)\n",
    "out = weights @ v"
   ],
   "metadata": {
    "collapsed": false,
    "ExecuteTime": {
     "end_time": "2024-03-22T14:30:47.955543331Z",
     "start_time": "2024-03-22T14:30:47.948170899Z"
    }
   },
   "id": "27c8e50bfd0b2ade",
   "execution_count": 40
  },
  {
   "cell_type": "code",
   "outputs": [],
   "source": [],
   "metadata": {
    "collapsed": false
   },
   "id": "4547cc8518cba067"
  }
 ],
 "metadata": {
  "kernelspec": {
   "display_name": "Python 3",
   "language": "python",
   "name": "python3"
  },
  "language_info": {
   "codemirror_mode": {
    "name": "ipython",
    "version": 2
   },
   "file_extension": ".py",
   "mimetype": "text/x-python",
   "name": "python",
   "nbconvert_exporter": "python",
   "pygments_lexer": "ipython2",
   "version": "2.7.6"
  }
 },
 "nbformat": 4,
 "nbformat_minor": 5
}
