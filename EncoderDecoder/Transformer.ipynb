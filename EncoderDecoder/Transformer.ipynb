{
 "cells": [
  {
   "cell_type": "code",
   "outputs": [],
   "source": [
    "import pandas as pd\n",
    "\n",
    "train = pd.read_json('data/trainmodel.json')\n",
    "validate = pd.read_json('data/val.json')\n",
    "\n",
    "train['answers'] = train['answers'].apply(lambda x: x[0])\n",
    "validate['answers'] = validate['answers'].apply(lambda x: x[0])"
   ],
   "metadata": {
    "collapsed": false,
    "ExecuteTime": {
     "end_time": "2024-04-10T12:55:36.439724281Z",
     "start_time": "2024-04-10T12:55:36.211215435Z"
    }
   },
   "id": "a388de46bf01c410",
   "execution_count": 212
  },
  {
   "cell_type": "code",
   "outputs": [
    {
     "data": {
      "text/plain": "         qId        answers                                              qText\n0  wqr000001  Padmé Amidala  what character did natalie portman play in sta...\n1  wqr000002  New York City                      what state does selena gomez?\n2  wqr000003        Bahamas        what country is the grand bahama island in?\n3  wqr000005    Denethor II  what character did john noble play in lord of ...\n4  wqr000006  Chicago Bulls                     who does joakim noah play for?",
      "text/html": "<div>\n<style scoped>\n    .dataframe tbody tr th:only-of-type {\n        vertical-align: middle;\n    }\n\n    .dataframe tbody tr th {\n        vertical-align: top;\n    }\n\n    .dataframe thead th {\n        text-align: right;\n    }\n</style>\n<table border=\"1\" class=\"dataframe\">\n  <thead>\n    <tr style=\"text-align: right;\">\n      <th></th>\n      <th>qId</th>\n      <th>answers</th>\n      <th>qText</th>\n    </tr>\n  </thead>\n  <tbody>\n    <tr>\n      <th>0</th>\n      <td>wqr000001</td>\n      <td>Padmé Amidala</td>\n      <td>what character did natalie portman play in sta...</td>\n    </tr>\n    <tr>\n      <th>1</th>\n      <td>wqr000002</td>\n      <td>New York City</td>\n      <td>what state does selena gomez?</td>\n    </tr>\n    <tr>\n      <th>2</th>\n      <td>wqr000003</td>\n      <td>Bahamas</td>\n      <td>what country is the grand bahama island in?</td>\n    </tr>\n    <tr>\n      <th>3</th>\n      <td>wqr000005</td>\n      <td>Denethor II</td>\n      <td>what character did john noble play in lord of ...</td>\n    </tr>\n    <tr>\n      <th>4</th>\n      <td>wqr000006</td>\n      <td>Chicago Bulls</td>\n      <td>who does joakim noah play for?</td>\n    </tr>\n  </tbody>\n</table>\n</div>"
     },
     "execution_count": 213,
     "metadata": {},
     "output_type": "execute_result"
    }
   ],
   "source": [
    "train.head(5)"
   ],
   "metadata": {
    "collapsed": false,
    "ExecuteTime": {
     "end_time": "2024-04-10T12:55:36.656786603Z",
     "start_time": "2024-04-10T12:55:36.479981073Z"
    }
   },
   "id": "fd83109d27cae1db",
   "execution_count": 213
  },
  {
   "cell_type": "code",
   "outputs": [],
   "source": [
    "questions = train['qText'].values\n",
    "answers = train['answers'].values\n",
    "questions_val = validate['qText'].values\n",
    "answers_val = validate['answers'].values\n",
    "\n",
    "questions_text = \" \".join(list(questions))\n",
    "answers_text = \" \".join(list(answers))\n",
    "questions_val_text = \" \".join(list(questions_val))\n",
    "answers_val_text = \" \".join(list(answers_val))\n",
    "\n",
    "full_text = \"$\" + questions_text + \" \" + answers_text + \" \" + questions_val_text + \" \" + answers_val_text + \"@\""
   ],
   "metadata": {
    "collapsed": false,
    "ExecuteTime": {
     "end_time": "2024-04-10T12:55:36.918386690Z",
     "start_time": "2024-04-10T12:55:36.657926266Z"
    }
   },
   "id": "25c796eafcfdf7a0",
   "execution_count": 214
  },
  {
   "cell_type": "code",
   "outputs": [],
   "source": [
    "vocab_size = len(set(full_text))\n",
    "encoder_map = {'$': 0, '@': 1}\n",
    "decoder_map = {0: '$', 1: '@'}\n",
    "unique_chars = set(full_text)\n",
    "\n",
    "for i, c in enumerate(unique_chars.difference({'$', '@'}), start=2):\n",
    "    encoder_map[c] = i\n",
    "    decoder_map[i] = c\n",
    "\n",
    "encode = lambda x: [encoder_map[c] for c in x]\n",
    "decode = lambda x: ''.join([decoder_map[i] for i in x])\n"
   ],
   "metadata": {
    "collapsed": false
   },
   "id": "56d610e0a443e539",
   "execution_count": 215
  },
  {
   "cell_type": "code",
   "outputs": [
    {
     "data": {
      "text/plain": "([0, 0, 0, 33, 28, 43, 29, 95, 43, 29, 98, 23, 88, 11, 1], '$$$Test string@')"
     },
     "execution_count": 216,
     "metadata": {},
     "output_type": "execute_result"
    }
   ],
   "source": [
    "encode(\"$$$Test string@\"), decode(encode(\"$$$Test string@\"))"
   ],
   "metadata": {
    "collapsed": false,
    "ExecuteTime": {
     "end_time": "2024-04-10T12:55:37.415405879Z",
     "start_time": "2024-04-10T12:55:37.192648397Z"
    }
   },
   "id": "d2d306d750fdb8c",
   "execution_count": 216
  },
  {
   "cell_type": "code",
   "outputs": [],
   "source": [
    "import torch\n",
    "\n",
    "torch.manual_seed(2115)\n",
    "batch_size = 16\n",
    "seq_len = 16\n",
    "n_embed = 32\n",
    "num_heads = 4\n",
    "\n",
    "\n",
    "def pad_sequences(sequences, seq_len):\n",
    "    padded_sequences = [[0] * (seq_len - len(seq)) + seq for seq in sequences]\n",
    "    return padded_sequences\n",
    "\n",
    "\n",
    "def truncate_sequences(sequences, max_len):\n",
    "    truncated_sequences = [seq[:max_len] for seq in sequences]\n",
    "    return truncated_sequences\n",
    "\n",
    "\n",
    "def get_batches(questions, answers):\n",
    "    idx = torch.randint(0, len(questions), (batch_size,))\n",
    "    batch_questions = questions[idx].tolist()\n",
    "    batch_answers = answers[idx].tolist()\n",
    "\n",
    "    encoded_questions = [encode(q)[:-1] for q in batch_questions]\n",
    "    encoded_answers = [encode(a)[:-1] for a in batch_answers]\n",
    "\n",
    "    y_questions = [encode(q)[1:] for q in batch_questions]\n",
    "    y_answers = [encode(a)[1:] for a in batch_answers]\n",
    "\n",
    "    encoded_questions = truncate_sequences(encoded_questions, seq_len)\n",
    "    encoded_answers = truncate_sequences(encoded_answers, seq_len)\n",
    "    y_questions = truncate_sequences(y_questions, seq_len)\n",
    "    y_answers = truncate_sequences(y_answers, seq_len)\n",
    "\n",
    "    x = pad_sequences(encoded_questions, seq_len)\n",
    "    y = pad_sequences(y_questions, seq_len)\n",
    "    x_ans = pad_sequences(encoded_answers, seq_len)\n",
    "    y_ans = pad_sequences(y_answers, seq_len)\n",
    "\n",
    "    x, y, x_ans, y_ans = map(lambda seqs: torch.tensor(seqs), [x, y, x_ans, y_ans])\n",
    "\n",
    "    return x, y, x_ans, y_ans\n",
    "\n",
    "\n",
    "x, y, x_ans, y_ans = get_batches(questions, answers)"
   ],
   "metadata": {
    "collapsed": false,
    "ExecuteTime": {
     "end_time": "2024-04-10T12:55:37.627076976Z",
     "start_time": "2024-04-10T12:55:37.418922951Z"
    }
   },
   "id": "38603cf7231ae894",
   "execution_count": 217
  },
  {
   "cell_type": "code",
   "outputs": [],
   "source": [
    "%reload_ext autoreload\n",
    "%autoreload 2\n",
    "from EncoderDecoder.layers.Decoder.Decoder import Decoder\n",
    "from EncoderDecoder.layers.Encoder.Encoder import Encoder\n",
    "import torch.nn as nn\n",
    "import torch.nn.functional as F\n",
    "\n",
    "\n",
    "class EncoderDecoder(nn.Module):\n",
    "\n",
    "    def __init__(self):\n",
    "        super().__init__()\n",
    "        self.encoder = Encoder(vocab_size, n_embed, num_heads, seq_len)\n",
    "        self.decoder = Decoder(vocab_size, n_embed, num_heads, seq_len)\n",
    "\n",
    "    def forward(self, prompt, response, targets=None):\n",
    "        src_mask, tgt_mask = self.generate_mask(prompt, response)\n",
    "        k, v = self.encoder(prompt, src_mask)\n",
    "        x, loss = self.decoder(response, k, v, targets, tgt_mask)\n",
    "        return x, loss\n",
    "\n",
    "    @staticmethod\n",
    "    def generate_mask(src, tgt):\n",
    "        src_mask = (src != 0).unsqueeze(1)\n",
    "        tgt_mask = (tgt != 0).unsqueeze(1)\n",
    "        seq_length = tgt.size(1)\n",
    "        nopeak_mask = (1 - torch.triu(torch.ones(1, seq_length, seq_length), diagonal=1)).bool()\n",
    "        tgt_mask = tgt_mask & nopeak_mask\n",
    "        return src_mask, tgt_mask\n",
    "\n",
    "    def generate(self, prompt, idx, n):\n",
    "        for _ in range(n):\n",
    "            idx_crop = idx[:, -seq_len:]\n",
    "            logits, _ = self(idx_crop, prompt)\n",
    "            logits = logits[:, -1, :]\n",
    "            p = F.softmax(logits, dim=-1)\n",
    "            next_token = torch.multinomial(p, num_samples=1)\n",
    "            if next_token == 1 or next_token == [1]:\n",
    "                return idx\n",
    "            idx = torch.cat((idx, next_token), dim=1)\n",
    "        return idx"
   ],
   "metadata": {
    "collapsed": false,
    "ExecuteTime": {
     "end_time": "2024-04-10T12:55:37.871866785Z",
     "start_time": "2024-04-10T12:55:37.633868178Z"
    }
   },
   "id": "3b721e4ed3077d66",
   "execution_count": 218
  },
  {
   "cell_type": "code",
   "outputs": [],
   "source": [
    "@torch.no_grad()\n",
    "def estimate_loss(model, eval_iters=200):\n",
    "    out = {}\n",
    "    model.eval()\n",
    "    for split in ['train', 'val']:\n",
    "        losses = torch.zeros(eval_iters)\n",
    "        for k in range(eval_iters):\n",
    "            x, y, x_ans, y_ans = get_batches(questions, answers) if split == 'train' else get_batches(questions_val,\n",
    "                                                                                                      answers_val)\n",
    "            logits, loss = model(x, y, x_ans)\n",
    "            losses[k] = loss.item()\n",
    "        out[split] = losses.mean()\n",
    "    model.train()\n",
    "    return out"
   ],
   "metadata": {
    "collapsed": false,
    "ExecuteTime": {
     "end_time": "2024-04-10T12:55:38.100837983Z",
     "start_time": "2024-04-10T12:55:37.873251995Z"
    }
   },
   "id": "98b115d0c225d802",
   "execution_count": 219
  },
  {
   "cell_type": "code",
   "outputs": [
    {
     "data": {
      "text/plain": "(tensor([[-0.6594, -0.9378,  0.1747,  ...,  0.0388, -0.5088, -0.0679],\n         [ 0.1900, -1.0047,  0.9578,  ...,  0.5132, -0.1564, -0.7422],\n         [-0.9429, -0.6643, -0.9468,  ..., -0.8344, -0.2469, -0.2425],\n         ...,\n         [ 0.0938,  0.5375,  0.6104,  ...,  0.0753,  0.1832,  0.6649],\n         [-0.2500, -0.2124,  0.0804,  ...,  0.4856,  0.1038, -0.4429],\n         [ 0.0680, -0.4675, -0.2153,  ..., -0.4312,  0.7411, -0.2365]],\n        grad_fn=<ViewBackward0>),\n tensor(4.7942, grad_fn=<NllLossBackward0>))"
     },
     "execution_count": 220,
     "metadata": {},
     "output_type": "execute_result"
    }
   ],
   "source": [
    "m = EncoderDecoder()\n",
    "x, y, x_ans, y_ans = get_batches(questions, answers)\n",
    "\n",
    "x = x[:1]\n",
    "y = y[:1]\n",
    "x_ans = x_ans[:1]\n",
    "y_ans = y_ans[:1]\n",
    "\n",
    "m(x, y, x_ans)"
   ],
   "metadata": {
    "collapsed": false,
    "ExecuteTime": {
     "end_time": "2024-04-10T12:55:38.375661037Z",
     "start_time": "2024-04-10T12:55:38.101116983Z"
    }
   },
   "id": "fe2da63b48e2866d",
   "execution_count": 220
  },
  {
   "cell_type": "code",
   "outputs": [
    {
     "name": "stdout",
     "output_type": "stream",
     "text": [
      "Iter 0, train loss: 4.801, val loss: 4.800\n",
      "Iter 10, train loss: 4.506, val loss: 4.526\n",
      "Iter 20, train loss: 4.217, val loss: 4.238\n",
      "Iter 30, train loss: 3.976, val loss: 4.024\n",
      "Iter 40, train loss: 3.808, val loss: 3.877\n",
      "Iter 50, train loss: 3.694, val loss: 3.743\n",
      "Iter 60, train loss: 3.611, val loss: 3.651\n",
      "Iter 70, train loss: 3.515, val loss: 3.590\n",
      "Iter 80, train loss: 3.447, val loss: 3.516\n",
      "Iter 90, train loss: 3.432, val loss: 3.474\n",
      "Iter 100, train loss: 3.351, val loss: 3.424\n",
      "Iter 110, train loss: 3.315, val loss: 3.356\n",
      "Iter 120, train loss: 3.301, val loss: 3.336\n",
      "Iter 130, train loss: 3.266, val loss: 3.315\n",
      "Iter 140, train loss: 3.229, val loss: 3.304\n",
      "Iter 150, train loss: 3.208, val loss: 3.266\n",
      "Iter 160, train loss: 3.193, val loss: 3.255\n",
      "Iter 170, train loss: 3.158, val loss: 3.204\n",
      "Iter 180, train loss: 3.167, val loss: 3.211\n",
      "Iter 190, train loss: 3.137, val loss: 3.198\n",
      "Iter 200, train loss: 3.148, val loss: 3.191\n",
      "Iter 210, train loss: 3.135, val loss: 3.185\n",
      "Iter 220, train loss: 3.109, val loss: 3.183\n",
      "Iter 230, train loss: 3.100, val loss: 3.148\n",
      "Iter 240, train loss: 3.079, val loss: 3.162\n",
      "Iter 250, train loss: 3.089, val loss: 3.135\n",
      "Iter 260, train loss: 3.070, val loss: 3.134\n",
      "Iter 270, train loss: 3.078, val loss: 3.136\n",
      "Iter 280, train loss: 3.054, val loss: 3.094\n",
      "Iter 290, train loss: 3.039, val loss: 3.103\n",
      "Iter 300, train loss: 3.043, val loss: 3.095\n",
      "Iter 310, train loss: 3.033, val loss: 3.082\n",
      "Iter 320, train loss: 3.013, val loss: 3.070\n",
      "Iter 330, train loss: 3.034, val loss: 3.091\n",
      "Iter 340, train loss: 3.018, val loss: 3.071\n",
      "Iter 350, train loss: 2.996, val loss: 3.061\n",
      "Iter 360, train loss: 2.978, val loss: 3.047\n",
      "Iter 370, train loss: 2.947, val loss: 3.032\n",
      "Iter 380, train loss: 2.959, val loss: 3.034\n",
      "Iter 390, train loss: 2.970, val loss: 3.037\n",
      "Iter 400, train loss: 2.967, val loss: 3.001\n",
      "Iter 410, train loss: 2.942, val loss: 3.013\n",
      "Iter 420, train loss: 2.923, val loss: 2.997\n",
      "Iter 430, train loss: 2.968, val loss: 3.005\n",
      "Iter 440, train loss: 2.950, val loss: 3.009\n",
      "Iter 450, train loss: 2.956, val loss: 2.995\n",
      "Iter 460, train loss: 2.922, val loss: 3.023\n",
      "Iter 470, train loss: 2.937, val loss: 3.010\n",
      "Iter 480, train loss: 2.932, val loss: 3.015\n",
      "Iter 490, train loss: 2.942, val loss: 2.989\n"
     ]
    }
   ],
   "source": [
    "import os\n",
    "\n",
    "\n",
    "def notify_end_of_cell(message=\"Cell execution completed!\"):\n",
    "    os.system(f'notify-send \"Jupyter Cell Notification\" \"{message}\"')\n",
    "\n",
    "\n",
    "optimizer = torch.optim.Adam(m.parameters(), lr=0.0003)\n",
    "history = []\n",
    "eval_interval = 10\n",
    "max_iter = 500\n",
    "for iter in range(max_iter):\n",
    "    if iter % eval_interval == 0:\n",
    "        losses = estimate_loss(m)\n",
    "        history.append((iter, losses))\n",
    "        print(f'Iter {iter}, train loss: {losses[\"train\"]:.3f}, val loss: {losses[\"val\"]:.3f}')\n",
    "\n",
    "    x, y, x_ans, y_ans = get_batches(questions, answers)\n",
    "    logits, loss = m(x, y, x_ans)\n",
    "    optimizer.zero_grad(set_to_none=True)\n",
    "    loss.backward()\n",
    "    optimizer.step()\n",
    "notify_end_of_cell()"
   ],
   "metadata": {
    "collapsed": false,
    "ExecuteTime": {
     "end_time": "2024-04-10T12:57:17.391851879Z",
     "start_time": "2024-04-10T12:55:38.379304415Z"
    }
   },
   "id": "873ab0ac2df82323",
   "execution_count": 221
  },
  {
   "cell_type": "code",
   "outputs": [
    {
     "data": {
      "text/plain": "[<matplotlib.lines.Line2D at 0x7b502b275b90>]"
     },
     "execution_count": 222,
     "metadata": {},
     "output_type": "execute_result"
    },
    {
     "data": {
      "text/plain": "<Figure size 2500x500 with 1 Axes>",
      "image/png": "[encoded data removed]"
     },
     "metadata": {},
     "output_type": "display_data"
    }
   ],
   "source": [
    "import matplotlib.pyplot as plt\n",
    "\n",
    "plt.figure(figsize=(25, 5))\n",
    "\n",
    "x = [h[0] for h in history]\n",
    "y = [h[1]['train'] for h in history]\n",
    "y_val = [h[1]['val'] for h in history]\n",
    "plt.plot(x, y, label='train')\n",
    "plt.plot(x, y_val, label='val')"
   ],
   "metadata": {
    "collapsed": false,
    "ExecuteTime": {
     "end_time": "2024-04-10T12:57:17.790949461Z",
     "start_time": "2024-04-10T12:57:17.393299506Z"
    }
   },
   "id": "11094736f4f7ede6",
   "execution_count": 222
  },
  {
   "cell_type": "code",
   "outputs": [
    {
     "name": "stdout",
     "output_type": "stream",
     "text": [
      "@sbeenatlnnacar $Alt $iksntDoMms lator$ lcf+gIafalErTl nn NeralualireblaglbQaiT$0l 9d iea$eeeAi arAC \n"
     ]
    }
   ],
   "source": [
    "prompt = 'where is Perpignan located?'\n",
    "prompt = torch.tensor(truncate_sequences([encode(prompt)], seq_len))\n",
    "idx = torch.ones((1, 1), dtype=torch.long)\n",
    "print(decode(m.generate(prompt, idx, 100)[0].tolist()))"
   ],
   "metadata": {
    "collapsed": false,
    "ExecuteTime": {
     "end_time": "2024-04-10T12:57:18.591690120Z",
     "start_time": "2024-04-10T12:57:17.792115844Z"
    }
   },
   "id": "c266e5c673669841",
   "execution_count": 223
  },
  {
   "cell_type": "code",
   "outputs": [],
   "source": [
    "# torch.save(m.state_dict(), './models/parallel_checkpoints_64_2.pth')"
   ],
   "metadata": {
    "collapsed": false,
    "ExecuteTime": {
     "end_time": "2024-04-10T12:57:18.855665021Z",
     "start_time": "2024-04-10T12:57:18.592243781Z"
    }
   },
   "id": "21360823cf1ce48f",
   "execution_count": 224
  }
 ],
 "metadata": {
  "kernelspec": {
   "display_name": "Python 3",
   "language": "python",
   "name": "python3"
  },
  "language_info": {
   "codemirror_mode": {
    "name": "ipython",
    "version": 3
   },
   "file_extension": ".py",
   "mimetype": "text/x-python",
   "name": "python",
   "nbconvert_exporter": "python",
   "pygments_lexer": "ipython3",
   "version": "3.11.5"
  }
 },
 "nbformat": 4,
 "nbformat_minor": 5
}
