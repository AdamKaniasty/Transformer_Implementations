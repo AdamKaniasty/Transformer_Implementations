{
 "cells": [
  {
   "cell_type": "code",
   "outputs": [],
   "source": [
    "import pandas as pd\n",
    "\n",
    "train = pd.read_json('data/trainmodel.json')\n",
    "validate = pd.read_json('data/val.json')\n",
    "\n",
    "train['answers'] = train['answers'].apply(lambda x: x[0])\n",
    "validate['answers'] = validate['answers'].apply(lambda x: x[0])"
   ],
   "metadata": {
    "collapsed": false,
    "ExecuteTime": {
     "end_time": "2024-04-09T19:48:49.437075559Z",
     "start_time": "2024-04-09T19:48:49.392322508Z"
    }
   },
   "id": "a388de46bf01c410",
   "execution_count": 348
  },
  {
   "cell_type": "code",
   "outputs": [
    {
     "data": {
      "text/plain": "         qId        answers                                              qText\n0  wqr000001  Padmé Amidala  what character did natalie portman play in sta...\n1  wqr000002  New York City                      what state does selena gomez?\n2  wqr000003        Bahamas        what country is the grand bahama island in?\n3  wqr000005    Denethor II  what character did john noble play in lord of ...\n4  wqr000006  Chicago Bulls                     who does joakim noah play for?",
      "text/html": "<div>\n<style scoped>\n    .dataframe tbody tr th:only-of-type {\n        vertical-align: middle;\n    }\n\n    .dataframe tbody tr th {\n        vertical-align: top;\n    }\n\n    .dataframe thead th {\n        text-align: right;\n    }\n</style>\n<table border=\"1\" class=\"dataframe\">\n  <thead>\n    <tr style=\"text-align: right;\">\n      <th></th>\n      <th>qId</th>\n      <th>answers</th>\n      <th>qText</th>\n    </tr>\n  </thead>\n  <tbody>\n    <tr>\n      <th>0</th>\n      <td>wqr000001</td>\n      <td>Padmé Amidala</td>\n      <td>what character did natalie portman play in sta...</td>\n    </tr>\n    <tr>\n      <th>1</th>\n      <td>wqr000002</td>\n      <td>New York City</td>\n      <td>what state does selena gomez?</td>\n    </tr>\n    <tr>\n      <th>2</th>\n      <td>wqr000003</td>\n      <td>Bahamas</td>\n      <td>what country is the grand bahama island in?</td>\n    </tr>\n    <tr>\n      <th>3</th>\n      <td>wqr000005</td>\n      <td>Denethor II</td>\n      <td>what character did john noble play in lord of ...</td>\n    </tr>\n    <tr>\n      <th>4</th>\n      <td>wqr000006</td>\n      <td>Chicago Bulls</td>\n      <td>who does joakim noah play for?</td>\n    </tr>\n  </tbody>\n</table>\n</div>"
     },
     "execution_count": 349,
     "metadata": {},
     "output_type": "execute_result"
    }
   ],
   "source": [
    "train.head(5)"
   ],
   "metadata": {
    "collapsed": false,
    "ExecuteTime": {
     "end_time": "2024-04-09T19:48:49.438994395Z",
     "start_time": "2024-04-09T19:48:49.436943230Z"
    }
   },
   "id": "fd83109d27cae1db",
   "execution_count": 349
  },
  {
   "cell_type": "code",
   "outputs": [],
   "source": [
    "questions = train['qText'].values\n",
    "answers = train['answers'].values\n",
    "questions_val = validate['qText'].values\n",
    "answers_val = validate['answers'].values\n",
    "\n",
    "questions_text = \" \".join(list(questions))\n",
    "answers_text = \" \".join(list(answers))\n",
    "questions_val_text = \" \".join(list(questions_val))\n",
    "answers_val_text = \" \".join(list(answers_val))\n",
    "\n",
    "full_text = \"$\" + questions_text + \" \" + answers_text + \" \" + questions_val_text + \" \" + answers_val_text + \"@\""
   ],
   "metadata": {
    "collapsed": false,
    "ExecuteTime": {
     "end_time": "2024-04-09T19:48:49.439709031Z",
     "start_time": "2024-04-09T19:48:49.437115174Z"
    }
   },
   "id": "25c796eafcfdf7a0",
   "execution_count": 350
  },
  {
   "cell_type": "code",
   "outputs": [],
   "source": [
    "vocab_size = len(set(full_text))\n",
    "encoder_map = {'$': 0, '@': 1}\n",
    "decoder_map = {0: '$', 1: '@'}\n",
    "unique_chars = set(full_text)\n",
    "\n",
    "for i, c in enumerate(unique_chars.difference({'$', '@'}), start=2):\n",
    "    encoder_map[c] = i\n",
    "    decoder_map[i] = c\n",
    "\n",
    "encode = lambda x: [encoder_map[c] for c in x]\n",
    "decode = lambda x: ''.join([decoder_map[i] for i in x])\n"
   ],
   "metadata": {
    "collapsed": false,
    "ExecuteTime": {
     "end_time": "2024-04-09T19:48:49.440149892Z",
     "start_time": "2024-04-09T19:48:49.437214421Z"
    }
   },
   "id": "56d610e0a443e539",
   "execution_count": 351
  },
  {
   "cell_type": "code",
   "outputs": [
    {
     "data": {
      "text/plain": "([0, 0, 0, 30, 34, 53, 9, 43, 53, 9, 52, 65, 73, 31, 1], '$$$Test string@')"
     },
     "execution_count": 352,
     "metadata": {},
     "output_type": "execute_result"
    }
   ],
   "source": [
    "encode(\"$$$Test string@\"), decode(encode(\"$$$Test string@\"))"
   ],
   "metadata": {
    "collapsed": false,
    "ExecuteTime": {
     "end_time": "2024-04-09T19:48:49.440787934Z",
     "start_time": "2024-04-09T19:48:49.437311364Z"
    }
   },
   "id": "d2d306d750fdb8c",
   "execution_count": 352
  },
  {
   "cell_type": "code",
   "outputs": [],
   "source": [
    "import torch\n",
    "\n",
    "torch.manual_seed(2115)\n",
    "batch_size = 16\n",
    "seq_len = 48\n",
    "n_embed = 32\n",
    "num_heads = 8\n",
    "\n",
    "\n",
    "def pad_sequences(sequences, seq_len):\n",
    "    padded_sequences = [[0] * (seq_len - len(seq)) + seq for seq in sequences]\n",
    "    return padded_sequences\n",
    "\n",
    "\n",
    "def truncate_sequences(sequences, max_len):\n",
    "    truncated_sequences = [seq[:max_len] for seq in sequences]\n",
    "    return truncated_sequences\n",
    "\n",
    "\n",
    "def get_batches(questions, answers):\n",
    "    idx = torch.randint(0, len(questions), (batch_size,))\n",
    "    batch_questions = questions[idx].tolist()\n",
    "    batch_answers = answers[idx].tolist()\n",
    "\n",
    "    encoded_questions = [encode(q)[:-1] for q in batch_questions]\n",
    "    encoded_answers = [encode(a)[:-1] for a in batch_answers]\n",
    "\n",
    "    y_questions = [encode(q)[1:] for q in batch_questions]\n",
    "    y_answers = [encode(a)[1:] for a in batch_answers]\n",
    "\n",
    "    encoded_questions = truncate_sequences(encoded_questions, seq_len)\n",
    "    encoded_answers = truncate_sequences(encoded_answers, seq_len)\n",
    "    y_questions = truncate_sequences(y_questions, seq_len)\n",
    "    y_answers = truncate_sequences(y_answers, seq_len)\n",
    "\n",
    "    x = pad_sequences(encoded_questions, seq_len)\n",
    "    y = pad_sequences(y_questions, seq_len)\n",
    "    x_ans = pad_sequences(encoded_answers, seq_len)\n",
    "    y_ans = pad_sequences(y_answers, seq_len)\n",
    "\n",
    "    x, y, x_ans, y_ans = map(lambda seqs: torch.tensor(seqs), [x, y, x_ans, y_ans])\n",
    "\n",
    "    return x, y, x_ans, y_ans\n",
    "\n",
    "\n",
    "x, y, x_ans, y_ans = get_batches(questions, answers)"
   ],
   "metadata": {
    "collapsed": false,
    "ExecuteTime": {
     "end_time": "2024-04-09T19:48:49.456519755Z",
     "start_time": "2024-04-09T19:48:49.453024490Z"
    }
   },
   "id": "38603cf7231ae894",
   "execution_count": 353
  },
  {
   "cell_type": "code",
   "outputs": [],
   "source": [
    "import torch.nn as nn\n",
    "from torch.nn import functional as F\n",
    "\n",
    "\n",
    "class MaskedHead(nn.Module):\n",
    "    def __init__(self, head_size):\n",
    "        super().__init__()\n",
    "        self.key = nn.Linear(n_embed, head_size, bias=False)\n",
    "        self.query = nn.Linear(n_embed, head_size, bias=False)\n",
    "        self.value = nn.Linear(n_embed, head_size, bias=False)\n",
    "        self.register_buffer('tril', torch.tril(torch.ones(seq_len, seq_len)))\n",
    "        self.head_size = head_size\n",
    "        self.dropout = nn.Dropout(0.1)\n",
    "\n",
    "    def forward(self, x):\n",
    "        B, T, C = x.shape\n",
    "        k = self.key(x)\n",
    "        q = self.query(x)\n",
    "        v = self.value(x)\n",
    "        weights = q @ k.transpose(-1, -2) * C ** -0.5\n",
    "        weights = weights.masked_fill(self.tril[:T, :T] == 0, float('-inf'))\n",
    "        weights = F.softmax(weights, dim=-1)\n",
    "        weights = self.dropout(weights)\n",
    "        return weights @ v\n",
    "\n",
    "\n",
    "class HeadEncoder(nn.Module):\n",
    "    def __init__(self, head_size):\n",
    "        super().__init__()\n",
    "        self.key = nn.Linear(n_embed, head_size, bias=False)\n",
    "        self.query = nn.Linear(n_embed, head_size, bias=False)\n",
    "        self.value = nn.Linear(n_embed, head_size, bias=False)\n",
    "        self.head_size = head_size\n",
    "        self.dropout = nn.Dropout(0.1)\n",
    "\n",
    "    def forward(self, x, prompt_mask):\n",
    "        B, T, C = x.shape\n",
    "        k = self.key(x)\n",
    "        q = self.query(x)\n",
    "        v = self.value(x)\n",
    "        weights = q @ k.transpose(-1, -2) * C ** -0.5\n",
    "        weights = weights.masked_fill(prompt_mask == 1, float('-inf'))\n",
    "        weights = F.softmax(weights, dim=-1)\n",
    "        weights = self.dropout(weights)\n",
    "        return weights @ v\n",
    "\n",
    "\n",
    "class HeadDecoder(nn.Module):\n",
    "    def __init__(self, head_size):\n",
    "        super().__init__()\n",
    "        self.query = nn.Linear(n_embed, head_size, bias=False)\n",
    "        self.head_size = head_size\n",
    "        self.dropout = nn.Dropout(0.1)\n",
    "\n",
    "    def forward(self, x, k, v):\n",
    "        B, T, C = x.shape\n",
    "        q = self.query(x)\n",
    "        weights = q @ k.transpose(-1, -2) * C ** -0.5\n",
    "        weights = F.softmax(weights, dim=-1)\n",
    "        weights = self.dropout(weights)\n",
    "        return weights @ v"
   ],
   "metadata": {
    "collapsed": false,
    "ExecuteTime": {
     "end_time": "2024-04-09T19:48:49.458524372Z",
     "start_time": "2024-04-09T19:48:49.453124147Z"
    }
   },
   "id": "7755ea6141bbbcb9",
   "execution_count": 354
  },
  {
   "cell_type": "code",
   "outputs": [],
   "source": [
    "class MaskedMultiHead(nn.Module):\n",
    "    def __init__(self, num_heads, head_size):\n",
    "        super().__init__()\n",
    "        self.heads = nn.ModuleList([MaskedHead(head_size) for _ in range(num_heads)])\n",
    "        self.proj = nn.Linear(n_embed, n_embed)\n",
    "        self.dropout = nn.Dropout(0.1)\n",
    "\n",
    "    def forward(self, x):\n",
    "        out = torch.cat([h(x) for h in self.heads], dim=-1)\n",
    "        return self.dropout(self.proj(out))\n",
    "\n",
    "\n",
    "class MultiHeadEncoder(nn.Module):\n",
    "    def __init__(self, num_heads, head_size):\n",
    "        super().__init__()\n",
    "        self.heads = nn.ModuleList([HeadEncoder(head_size) for _ in range(num_heads)])\n",
    "        self.proj = nn.Linear(n_embed, n_embed)\n",
    "        self.dropout = nn.Dropout(0.1)\n",
    "\n",
    "    def forward(self, x, prompt_mask):\n",
    "        out = torch.cat([h(x, prompt_mask) for h in self.heads], dim=-1)\n",
    "        return self.dropout(self.proj(out))\n",
    "\n",
    "\n",
    "class MultiHeadDecoder(nn.Module):\n",
    "    def __init__(self, num_heads, head_size):\n",
    "        super().__init__()\n",
    "        self.heads = nn.ModuleList([HeadDecoder(head_size) for _ in range(num_heads)])\n",
    "        self.proj = nn.Linear(n_embed, n_embed)\n",
    "        self.dropout = nn.Dropout(0.1)\n",
    "\n",
    "    def forward(self, x, k, v):\n",
    "        out = torch.cat([h(x, k, v) for h in self.heads], dim=-1)\n",
    "        return self.dropout(self.proj(out))"
   ],
   "metadata": {
    "collapsed": false,
    "ExecuteTime": {
     "end_time": "2024-04-09T19:48:49.500309451Z",
     "start_time": "2024-04-09T19:48:49.458710152Z"
    }
   },
   "id": "3bb13f5732a3e657",
   "execution_count": 355
  },
  {
   "cell_type": "code",
   "outputs": [],
   "source": [
    "class FeedForward(nn.Module):\n",
    "    def __init__(self, hidden_size):\n",
    "        super().__init__()\n",
    "        self.net = nn.Sequential(\n",
    "            nn.Linear(hidden_size, 4 * hidden_size),\n",
    "            nn.ReLU(),\n",
    "            nn.Linear(4 * hidden_size, hidden_size),\n",
    "            nn.Dropout(0.1),\n",
    "        )\n",
    "\n",
    "    def forward(self, x):\n",
    "        return self.net(x)"
   ],
   "metadata": {
    "collapsed": false,
    "ExecuteTime": {
     "end_time": "2024-04-09T19:48:49.500748098Z",
     "start_time": "2024-04-09T19:48:49.484482351Z"
    }
   },
   "id": "7631bf1ebdc37a38",
   "execution_count": 356
  },
  {
   "cell_type": "code",
   "outputs": [],
   "source": [
    "class BlockDecoder(nn.Module):\n",
    "    def __init__(self, n_embed, n_head):\n",
    "        super().__init__()\n",
    "        head_size = n_embed // n_head\n",
    "        self.msa_heads = MaskedMultiHead(n_head, head_size)\n",
    "        self.sa_heads = MultiHeadDecoder(n_head, head_size)\n",
    "        self.feed_forward = FeedForward(n_embed)\n",
    "        self.layer_norm1 = nn.LayerNorm(n_embed)\n",
    "        self.layer_norm2 = nn.LayerNorm(n_embed)\n",
    "        self.layer_norm3 = nn.LayerNorm(n_embed)\n",
    "\n",
    "    def forward(self, x, k, v):\n",
    "        x = x + self.msa_heads(self.layer_norm1(x))\n",
    "        x = x + self.sa_heads(self.layer_norm2(x), k, v)\n",
    "        x = x + self.feed_forward(self.layer_norm3(x))\n",
    "        return x\n",
    "\n",
    "\n",
    "class BlockEncoder(nn.Module):\n",
    "    def __init__(self, n_embed, n_head, head_size):\n",
    "        super().__init__()\n",
    "        self.sa_heads = MultiHeadEncoder(n_head, head_size)\n",
    "        self.feed_forward = FeedForward(n_embed)\n",
    "        self.layer_norm1 = nn.LayerNorm(n_embed)\n",
    "        self.layer_norm2 = nn.LayerNorm(n_embed)\n",
    "\n",
    "    def forward(self, x, prompt_mask):\n",
    "        x = x + self.sa_heads(self.layer_norm1(x), prompt_mask)\n",
    "        x = x + self.feed_forward(self.layer_norm2(x))\n",
    "        return x"
   ],
   "metadata": {
    "collapsed": false,
    "ExecuteTime": {
     "end_time": "2024-04-09T19:48:49.501107465Z",
     "start_time": "2024-04-09T19:48:49.484676567Z"
    }
   },
   "id": "3e46d2ed4d9057f6",
   "execution_count": 357
  },
  {
   "cell_type": "code",
   "outputs": [],
   "source": [
    "class Decoder(nn.Module):\n",
    "\n",
    "    def __init__(self):\n",
    "        super().__init__()\n",
    "        self.token_embedding_table = nn.Embedding(vocab_size, n_embed)\n",
    "        self.position_embedding_table = nn.Embedding(seq_len, n_embed)\n",
    "        self.blocks = [BlockDecoder(n_embed, num_heads) for _ in range(3)]\n",
    "        self.blocks = nn.ModuleList(self.blocks)\n",
    "        self.layer_norm = nn.LayerNorm(n_embed)\n",
    "        self.lm_head = nn.Linear(n_embed, vocab_size)\n",
    "\n",
    "    def forward(self, idx, k, v, targets=None):\n",
    "        B, T = idx.shape\n",
    "        token_embedding = self.token_embedding_table(idx)\n",
    "        position_embedding = self.position_embedding_table(torch.arange(T))\n",
    "        x = token_embedding + position_embedding\n",
    "        for block in self.blocks:\n",
    "            x = block(x, k, v)\n",
    "        x = self.layer_norm(x)\n",
    "        logits = self.lm_head(x)\n",
    "\n",
    "        loss = None\n",
    "        if targets is not None:\n",
    "            B, T, C = logits.shape\n",
    "            logits = logits.view(B * T, C)\n",
    "            targets = targets.view(B * T)\n",
    "            loss = F.cross_entropy(logits, targets)\n",
    "\n",
    "        return logits, loss\n",
    "\n",
    "    def generate(self, idx, n):\n",
    "        for _ in range(n):\n",
    "            idx_crop = idx[:, -seq_len:]\n",
    "            logits, _ = self(idx_crop)\n",
    "            logits = logits[:, -1, :]\n",
    "            p = F.softmax(logits, dim=-1)\n",
    "            next_token = torch.multinomial(p, num_samples=1)\n",
    "            idx = torch.cat((idx, next_token), dim=1)\n",
    "        return idx"
   ],
   "metadata": {
    "collapsed": false,
    "ExecuteTime": {
     "end_time": "2024-04-09T19:48:49.653725920Z",
     "start_time": "2024-04-09T19:48:49.500580823Z"
    }
   },
   "id": "a4c34b6342b0c540",
   "execution_count": 358
  },
  {
   "cell_type": "code",
   "outputs": [],
   "source": [
    "class Encoder(nn.Module):\n",
    "\n",
    "    def __init__(self):\n",
    "        super().__init__()\n",
    "        head_size = n_embed // num_heads\n",
    "        self.token_embedding_table = nn.Embedding(vocab_size, n_embed)\n",
    "        self.position_embedding_table = nn.Embedding(seq_len, n_embed)\n",
    "        self.blocks = nn.ModuleList([BlockEncoder(n_embed, num_heads, head_size) for _ in range(2)])\n",
    "        self.layer_norm = nn.LayerNorm(n_embed)\n",
    "        self.key_projection = nn.Linear(n_embed, head_size)\n",
    "        self.value_projection = nn.Linear(n_embed, head_size)\n",
    "\n",
    "    def forward(self, idx, prompt_mask=None):\n",
    "        B, T = idx.shape\n",
    "        token_embedding = self.token_embedding_table(idx)\n",
    "        position_embedding = self.position_embedding_table(torch.arange(T))\n",
    "        x = token_embedding + position_embedding\n",
    "        for block in self.blocks:\n",
    "            x = block(x, prompt_mask)\n",
    "        x = self.layer_norm(x)\n",
    "        k = self.key_projection(x)\n",
    "        v = self.value_projection(x)\n",
    "        return k, v"
   ],
   "metadata": {
    "collapsed": false,
    "ExecuteTime": {
     "end_time": "2024-04-09T19:48:49.664212789Z",
     "start_time": "2024-04-09T19:48:49.542591487Z"
    }
   },
   "id": "8a1801b072224005",
   "execution_count": 359
  },
  {
   "cell_type": "code",
   "outputs": [],
   "source": [
    "class EncoderDecoder(nn.Module):\n",
    "\n",
    "    def __init__(self):\n",
    "        super().__init__()\n",
    "        self.encoder = Encoder()\n",
    "        self.decoder = Decoder()\n",
    "        self.prompt_mask = None\n",
    "\n",
    "    def forward(self, prompt, response, targets=None):\n",
    "        self.prompt_mask = (prompt == 0).unsqueeze(1)\n",
    "        k, v = self.encoder(prompt, self.prompt_mask)\n",
    "        x, loss = self.decoder(response, k, v, targets)\n",
    "        return x, loss\n",
    "\n",
    "    def generate(self, prompt, idx, n):\n",
    "        for _ in range(n):\n",
    "            idx_crop = idx[:, -seq_len:]\n",
    "            logits, _ = self(idx_crop, prompt)\n",
    "            logits = logits[:, -1, :]\n",
    "            p = F.softmax(logits, dim=-1)\n",
    "            next_token = torch.multinomial(p, num_samples=1)\n",
    "            if next_token == 1 or next_token == [1]:\n",
    "                return idx\n",
    "            idx = torch.cat((idx, next_token), dim=1)\n",
    "        return idx"
   ],
   "metadata": {
    "collapsed": false,
    "ExecuteTime": {
     "end_time": "2024-04-09T19:48:49.667121289Z",
     "start_time": "2024-04-09T19:48:49.658327130Z"
    }
   },
   "id": "56546bda66bb7936",
   "execution_count": 360
  },
  {
   "cell_type": "code",
   "outputs": [],
   "source": [
    "@torch.no_grad()\n",
    "def estimate_loss(model, eval_iters=200):\n",
    "    out = {}\n",
    "    model.eval()\n",
    "    for split in ['train', 'val']:\n",
    "        losses = torch.zeros(eval_iters)\n",
    "        for k in range(eval_iters):\n",
    "            x, y, x_ans, y_ans = get_batches(questions, answers) if split == 'train' else get_batches(questions_val,\n",
    "                                                                                                      answers_val)\n",
    "            logits, loss = model(x, y, x_ans)\n",
    "            losses[k] = loss.item()\n",
    "        out[split] = losses.mean()\n",
    "    model.train()\n",
    "    return out"
   ],
   "metadata": {
    "collapsed": false,
    "ExecuteTime": {
     "end_time": "2024-04-09T19:48:49.706793237Z",
     "start_time": "2024-04-09T19:48:49.670322310Z"
    }
   },
   "id": "98b115d0c225d802",
   "execution_count": 361
  },
  {
   "cell_type": "code",
   "outputs": [],
   "source": [
    "import os\n",
    "\n",
    "def notify_end_of_cell(message=\"Cell execution completed!\"):\n",
    "    os.system(f'notify-send \"Jupyter Cell Notification\" \"{message}\"')"
   ],
   "metadata": {
    "collapsed": false,
    "ExecuteTime": {
     "end_time": "2024-04-09T19:48:49.707398427Z",
     "start_time": "2024-04-09T19:48:49.695142014Z"
    }
   },
   "id": "71db8c4f4cc58692",
   "execution_count": 362
  },
  {
   "cell_type": "code",
   "outputs": [],
   "source": [
    "m = EncoderDecoder()"
   ],
   "metadata": {
    "collapsed": false,
    "ExecuteTime": {
     "end_time": "2024-04-09T19:48:49.728379058Z",
     "start_time": "2024-04-09T19:48:49.707049530Z"
    }
   },
   "id": "a13a2c9eb8ff02d2",
   "execution_count": 363
  },
  {
   "cell_type": "code",
   "outputs": [
    {
     "name": "stdout",
     "output_type": "stream",
     "text": [
      "Iter 0, train loss: 4.975, val loss: 4.971\n",
      "Iter 5, train loss: 4.550, val loss: 4.554\n",
      "Iter 10, train loss: 4.108, val loss: 4.129\n",
      "Iter 15, train loss: 3.700, val loss: 3.730\n",
      "Iter 20, train loss: 3.351, val loss: 3.384\n",
      "Iter 25, train loss: 3.085, val loss: 3.129\n",
      "Iter 30, train loss: 2.892, val loss: 2.936\n",
      "Iter 35, train loss: 2.740, val loss: 2.781\n",
      "Iter 40, train loss: 2.606, val loss: 2.655\n",
      "Iter 45, train loss: 2.512, val loss: 2.551\n",
      "Iter 50, train loss: 2.432, val loss: 2.485\n",
      "Iter 55, train loss: 2.336, val loss: 2.403\n",
      "Iter 60, train loss: 2.266, val loss: 2.314\n",
      "Iter 65, train loss: 2.213, val loss: 2.264\n",
      "Iter 70, train loss: 2.153, val loss: 2.214\n",
      "Iter 75, train loss: 2.114, val loss: 2.179\n",
      "Iter 80, train loss: 2.065, val loss: 2.125\n",
      "Iter 85, train loss: 2.035, val loss: 2.074\n",
      "Iter 90, train loss: 1.969, val loss: 2.023\n",
      "Iter 95, train loss: 1.941, val loss: 2.029\n",
      "Iter 100, train loss: 1.916, val loss: 1.975\n",
      "Iter 105, train loss: 1.887, val loss: 1.947\n",
      "Iter 110, train loss: 1.866, val loss: 1.947\n",
      "Iter 115, train loss: 1.850, val loss: 1.916\n",
      "Iter 120, train loss: 1.817, val loss: 1.902\n",
      "Iter 125, train loss: 1.797, val loss: 1.868\n",
      "Iter 130, train loss: 1.785, val loss: 1.857\n",
      "Iter 135, train loss: 1.743, val loss: 1.842\n",
      "Iter 140, train loss: 1.763, val loss: 1.859\n",
      "Iter 145, train loss: 1.732, val loss: 1.805\n",
      "Iter 150, train loss: 1.745, val loss: 1.791\n",
      "Iter 155, train loss: 1.699, val loss: 1.807\n",
      "Iter 160, train loss: 1.725, val loss: 1.786\n",
      "Iter 165, train loss: 1.705, val loss: 1.790\n",
      "Iter 170, train loss: 1.697, val loss: 1.774\n",
      "Iter 175, train loss: 1.706, val loss: 1.764\n",
      "Iter 180, train loss: 1.669, val loss: 1.770\n",
      "Iter 185, train loss: 1.685, val loss: 1.752\n",
      "Iter 190, train loss: 1.670, val loss: 1.733\n",
      "Iter 195, train loss: 1.638, val loss: 1.731\n"
     ]
    }
   ],
   "source": [
    "optimizer = torch.optim.Adam(m.parameters(), lr=0.0003)\n",
    "\n",
    "history = []\n",
    "eval_interval = 5\n",
    "max_iter = 200\n",
    "for iter in range(max_iter):\n",
    "    if iter % eval_interval == 0:\n",
    "        losses = estimate_loss(m)\n",
    "        history.append((iter, losses))\n",
    "        print(f'Iter {iter}, train loss: {losses[\"train\"]:.3f}, val loss: {losses[\"val\"]:.3f}')\n",
    "\n",
    "    x, y, x_ans, y_ans = get_batches(questions, answers)\n",
    "    logits, loss = m(x, y, x_ans)\n",
    "    optimizer.zero_grad(set_to_none=True)\n",
    "    loss.backward()\n",
    "    optimizer.step()\n",
    "notify_end_of_cell()"
   ],
   "metadata": {
    "collapsed": false,
    "ExecuteTime": {
     "end_time": "2024-04-09T19:52:02.997593280Z",
     "start_time": "2024-04-09T19:48:49.717650113Z"
    }
   },
   "id": "873ab0ac2df82323",
   "execution_count": 364
  },
  {
   "cell_type": "code",
   "outputs": [
    {
     "data": {
      "text/plain": "[<matplotlib.lines.Line2D at 0x7e30e76cae90>]"
     },
     "execution_count": 365,
     "metadata": {},
     "output_type": "execute_result"
    },
    {
     "data": {
      "text/plain": "<Figure size 2500x500 with 1 Axes>",
      "image/png": "[encoded data removed]"
     },
     "metadata": {},
     "output_type": "display_data"
    }
   ],
   "source": [
    "import matplotlib.pyplot as plt\n",
    "\n",
    "plt.figure(figsize=(25, 5))\n",
    "\n",
    "x = [h[0] for h in history]\n",
    "y = [h[1]['train'] for h in history]\n",
    "y_val = [h[1]['val'] for h in history]\n",
    "plt.plot(x, y, label='train')\n",
    "plt.plot(x, y_val, label='val')"
   ],
   "metadata": {
    "collapsed": false,
    "ExecuteTime": {
     "end_time": "2024-04-09T19:52:03.150929969Z",
     "start_time": "2024-04-09T19:52:03.000545743Z"
    }
   },
   "id": "11094736f4f7ede6",
   "execution_count": 365
  },
  {
   "cell_type": "code",
   "outputs": [
    {
     "name": "stdout",
     "output_type": "stream",
     "text": [
      "@$o/$$$$t$$ds$$$$$/$B$a$$$$$$W$$$$$$$+$$$a$$$$Pe$l$$$$o$6É$!$Pl$$mAĀ5$N$u$r#$$$$ñZUte$$us$$ë$'$uiw$$i\n"
     ]
    }
   ],
   "source": [
    "prompt = 'where is Perpignan located?'\n",
    "prompt = torch.tensor(truncate_sequences([encode(prompt)], seq_len))\n",
    "idx = torch.ones((1, 1), dtype=torch.long)\n",
    "print(decode(m.generate(prompt, idx, 100)[0].tolist()))"
   ],
   "metadata": {
    "collapsed": false,
    "ExecuteTime": {
     "end_time": "2024-04-09T19:52:04.329414856Z",
     "start_time": "2024-04-09T19:52:03.152952760Z"
    }
   },
   "id": "c266e5c673669841",
   "execution_count": 366
  },
  {
   "cell_type": "code",
   "outputs": [],
   "source": [
    "torch.save(m.state_dict(), './models/parallel_checkpoints_64_2.pth')"
   ],
   "metadata": {
    "collapsed": false,
    "ExecuteTime": {
     "end_time": "2024-04-09T19:52:04.445109302Z",
     "start_time": "2024-04-09T19:52:04.331788378Z"
    }
   },
   "id": "21360823cf1ce48f",
   "execution_count": 367
  }
 ],
 "metadata": {
  "kernelspec": {
   "display_name": "Python 3",
   "language": "python",
   "name": "python3"
  },
  "language_info": {
   "codemirror_mode": {
    "name": "ipython",
    "version": 3
   },
   "file_extension": ".py",
   "mimetype": "text/x-python",
   "name": "python",
   "nbconvert_exporter": "python",
   "pygments_lexer": "ipython3",
   "version": "3.11.5"
  }
 },
 "nbformat": 4,
 "nbformat_minor": 5
}
