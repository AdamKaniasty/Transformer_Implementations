{
 "cells": [
  {
   "cell_type": "code",
   "outputs": [],
   "source": [
    "import pandas as pd\n",
    "\n",
    "train = pd.read_json('data/trainmodel.json')\n",
    "validate = pd.read_json('data/val.json')\n",
    "\n",
    "train['answers'] = train['answers'].apply(lambda x: x[0])\n",
    "validate['answers'] = validate['answers'].apply(lambda x: x[0])"
   ],
   "metadata": {
    "collapsed": false,
    "ExecuteTime": {
     "end_time": "2024-04-08T20:59:48.580657073Z",
     "start_time": "2024-04-08T20:59:48.530075622Z"
    }
   },
   "id": "a388de46bf01c410",
   "execution_count": 94
  },
  {
   "cell_type": "code",
   "outputs": [
    {
     "data": {
      "text/plain": "         qId        answers                                              qText\n0  wqr000001  Padmé Amidala  what character did natalie portman play in sta...\n1  wqr000002  New York City                      what state does selena gomez?\n2  wqr000003        Bahamas        what country is the grand bahama island in?\n3  wqr000005    Denethor II  what character did john noble play in lord of ...\n4  wqr000006  Chicago Bulls                     who does joakim noah play for?",
      "text/html": "<div>\n<style scoped>\n    .dataframe tbody tr th:only-of-type {\n        vertical-align: middle;\n    }\n\n    .dataframe tbody tr th {\n        vertical-align: top;\n    }\n\n    .dataframe thead th {\n        text-align: right;\n    }\n</style>\n<table border=\"1\" class=\"dataframe\">\n  <thead>\n    <tr style=\"text-align: right;\">\n      <th></th>\n      <th>qId</th>\n      <th>answers</th>\n      <th>qText</th>\n    </tr>\n  </thead>\n  <tbody>\n    <tr>\n      <th>0</th>\n      <td>wqr000001</td>\n      <td>Padmé Amidala</td>\n      <td>what character did natalie portman play in sta...</td>\n    </tr>\n    <tr>\n      <th>1</th>\n      <td>wqr000002</td>\n      <td>New York City</td>\n      <td>what state does selena gomez?</td>\n    </tr>\n    <tr>\n      <th>2</th>\n      <td>wqr000003</td>\n      <td>Bahamas</td>\n      <td>what country is the grand bahama island in?</td>\n    </tr>\n    <tr>\n      <th>3</th>\n      <td>wqr000005</td>\n      <td>Denethor II</td>\n      <td>what character did john noble play in lord of ...</td>\n    </tr>\n    <tr>\n      <th>4</th>\n      <td>wqr000006</td>\n      <td>Chicago Bulls</td>\n      <td>who does joakim noah play for?</td>\n    </tr>\n  </tbody>\n</table>\n</div>"
     },
     "execution_count": 95,
     "metadata": {},
     "output_type": "execute_result"
    }
   ],
   "source": [
    "train.head(5)"
   ],
   "metadata": {
    "collapsed": false,
    "ExecuteTime": {
     "end_time": "2024-04-08T20:59:48.600833351Z",
     "start_time": "2024-04-08T20:59:48.548069717Z"
    }
   },
   "id": "fd83109d27cae1db",
   "execution_count": 95
  },
  {
   "cell_type": "code",
   "outputs": [],
   "source": [
    "questions = train['qText'].values\n",
    "answers = train['answers'].values\n",
    "questions_val = validate['qText'].values\n",
    "answers_val = validate['answers'].values\n",
    "\n",
    "questions_text = \" \".join(list(questions))\n",
    "answers_text = \" \".join(list(answers))\n",
    "questions_val_text = \" \".join(list(questions_val))\n",
    "answers_val_text = \" \".join(list(answers_val))\n",
    "\n",
    "full_text = questions_text + \" \" + answers_text"
   ],
   "metadata": {
    "collapsed": false,
    "ExecuteTime": {
     "end_time": "2024-04-08T20:59:48.601870291Z",
     "start_time": "2024-04-08T20:59:48.581917002Z"
    }
   },
   "id": "25c796eafcfdf7a0",
   "execution_count": 96
  },
  {
   "cell_type": "code",
   "outputs": [],
   "source": [
    "vocab_size = len(set(full_text))\n",
    "\n",
    "encoder_map = {c: i for i, c in enumerate(set(full_text))}\n",
    "decoder_map = {i: c for i, c in enumerate(set(full_text))}\n",
    "\n",
    "encode = lambda x: [encoder_map[c] for c in x]\n",
    "decode = lambda x: ''.join([decoder_map[i] for i in x])\n"
   ],
   "metadata": {
    "collapsed": false,
    "ExecuteTime": {
     "end_time": "2024-04-08T20:59:48.602284821Z",
     "start_time": "2024-04-08T20:59:48.582075430Z"
    }
   },
   "id": "56d610e0a443e539",
   "execution_count": 97
  },
  {
   "cell_type": "code",
   "outputs": [
    {
     "data": {
      "text/plain": "([52, 24, 86, 54, 47, 86, 54, 55, 34, 56, 5], 'Test string')"
     },
     "execution_count": 98,
     "metadata": {},
     "output_type": "execute_result"
    }
   ],
   "source": [
    "encode(\"Test string\"), decode(encode(\"Test string\"))"
   ],
   "metadata": {
    "collapsed": false,
    "ExecuteTime": {
     "end_time": "2024-04-08T20:59:48.602746108Z",
     "start_time": "2024-04-08T20:59:48.582184525Z"
    }
   },
   "id": "d2d306d750fdb8c",
   "execution_count": 98
  },
  {
   "cell_type": "code",
   "outputs": [],
   "source": [
    "import torch\n",
    "\n",
    "torch.manual_seed(2115)\n",
    "batch_size = 16\n",
    "seq_len = 64\n",
    "n_embed = 32\n",
    "num_heads = 8\n",
    "\n",
    "\n",
    "def pad_sequences(sequences, seq_len):\n",
    "    padded_sequences = [seq + [0] * (seq_len - len(seq)) for seq in sequences]\n",
    "    return padded_sequences\n",
    "\n",
    "\n",
    "def truncate_sequences(sequences, max_len):\n",
    "    truncated_sequences = [seq[:max_len] for seq in sequences]\n",
    "    return truncated_sequences\n",
    "\n",
    "\n",
    "def get_batches(questions, answers):\n",
    "    idx = torch.randint(0, len(questions), (batch_size,))\n",
    "    batch_questions = questions[idx].tolist()\n",
    "    batch_answers = answers[idx].tolist()\n",
    "\n",
    "    encoded_questions = [encode(q)[:-1] for q in batch_questions]\n",
    "    encoded_answers = [encode(a)[:-1] for a in batch_answers]\n",
    "\n",
    "    y_questions = [encode(q)[1:] for q in batch_questions]\n",
    "    y_answers = [encode(a)[1:] for a in batch_answers]\n",
    "\n",
    "    encoded_questions = truncate_sequences(encoded_questions, seq_len)\n",
    "    encoded_answers = truncate_sequences(encoded_answers, seq_len)\n",
    "    y_questions = truncate_sequences(y_questions, seq_len)\n",
    "    y_answers = truncate_sequences(y_answers, seq_len)\n",
    "\n",
    "    x = pad_sequences(encoded_questions, seq_len)\n",
    "    y = pad_sequences(y_questions, seq_len)\n",
    "    x_ans = pad_sequences(encoded_answers, seq_len)\n",
    "    y_ans = pad_sequences(y_answers, seq_len)\n",
    "\n",
    "    x, y, x_ans, y_ans = map(lambda seqs: torch.tensor(seqs), [x, y, x_ans, y_ans])\n",
    "\n",
    "    return x, y, x_ans, y_ans\n",
    "\n",
    "\n",
    "x, y, x_ans, y_ans = get_batches(questions, answers)"
   ],
   "metadata": {
    "collapsed": false,
    "ExecuteTime": {
     "end_time": "2024-04-08T20:59:48.615139852Z",
     "start_time": "2024-04-08T20:59:48.600812823Z"
    }
   },
   "id": "38603cf7231ae894",
   "execution_count": 99
  },
  {
   "cell_type": "code",
   "outputs": [],
   "source": [
    "import torch.nn as nn\n",
    "from torch.nn import functional as F\n",
    "\n",
    "\n",
    "class MaskedHead(nn.Module):\n",
    "    def __init__(self, head_size):\n",
    "        super().__init__()\n",
    "        self.key = nn.Linear(n_embed, head_size, bias=False)\n",
    "        self.query = nn.Linear(n_embed, head_size, bias=False)\n",
    "        self.value = nn.Linear(n_embed, head_size, bias=False)\n",
    "        self.register_buffer('tril', torch.tril(torch.ones(seq_len, seq_len)))\n",
    "        self.head_size = head_size\n",
    "        self.dropout = nn.Dropout(0.1)\n",
    "\n",
    "    def forward(self, x):\n",
    "        B, T, C = x.shape\n",
    "        k = self.key(x)\n",
    "        q = self.query(x)\n",
    "        v = self.value(x)\n",
    "        weights = q @ k.transpose(-1, -2) * C ** -0.5\n",
    "        weights = weights.masked_fill(self.tril[:T, :T] == 0, float('-inf'))\n",
    "        weights = F.softmax(weights, dim=-1)\n",
    "        weights = self.dropout(weights)\n",
    "        return weights @ v\n",
    "\n",
    "\n",
    "class HeadEncoder(nn.Module):\n",
    "    def __init__(self, head_size):\n",
    "        super().__init__()\n",
    "        self.key = nn.Linear(n_embed, head_size, bias=False)\n",
    "        self.query = nn.Linear(n_embed, head_size, bias=False)\n",
    "        self.value = nn.Linear(n_embed, head_size, bias=False)\n",
    "        self.head_size = head_size\n",
    "        self.dropout = nn.Dropout(0.1)\n",
    "\n",
    "    def forward(self, x):\n",
    "        B, T, C = x.shape\n",
    "        k = self.key(x)\n",
    "        q = self.query(x)\n",
    "        v = self.value(x)\n",
    "        weights = q @ k.transpose(-1, -2) * C ** -0.5\n",
    "        weights = F.softmax(weights, dim=-1)\n",
    "        weights = self.dropout(weights)\n",
    "        return weights @ v\n",
    "\n",
    "\n",
    "class HeadDecoder(nn.Module):\n",
    "    def __init__(self, head_size):\n",
    "        super().__init__()\n",
    "        self.query = nn.Linear(n_embed, head_size, bias=False)\n",
    "        self.head_size = head_size\n",
    "        self.dropout = nn.Dropout(0.1)\n",
    "\n",
    "    def forward(self, x, k, v):\n",
    "        B, T, C = x.shape\n",
    "        q = self.query(x)\n",
    "        weights = q @ k.transpose(-1, -2) * C ** -0.5\n",
    "        weights = F.softmax(weights, dim=-1)\n",
    "        weights = self.dropout(weights)\n",
    "        return weights @ v"
   ],
   "metadata": {
    "collapsed": false,
    "ExecuteTime": {
     "end_time": "2024-04-08T20:59:48.638051033Z",
     "start_time": "2024-04-08T20:59:48.614622770Z"
    }
   },
   "id": "7755ea6141bbbcb9",
   "execution_count": 100
  },
  {
   "cell_type": "code",
   "outputs": [],
   "source": [
    "class MaskedMultiHead(nn.Module):\n",
    "    def __init__(self, num_heads, head_size):\n",
    "        super().__init__()\n",
    "        self.heads = nn.ModuleList([MaskedHead(head_size) for _ in range(num_heads)])\n",
    "        self.proj = nn.Linear(n_embed, n_embed)\n",
    "        self.dropout = nn.Dropout(0.1)\n",
    "\n",
    "    def forward(self, x):\n",
    "        out = torch.cat([h(x) for h in self.heads], dim=-1)\n",
    "        return self.dropout(self.proj(out))\n",
    "\n",
    "\n",
    "class MultiHeadEncoder(nn.Module):\n",
    "    def __init__(self, num_heads, head_size):\n",
    "        super().__init__()\n",
    "        self.heads = nn.ModuleList([HeadEncoder(head_size) for _ in range(num_heads)])\n",
    "        self.proj = nn.Linear(n_embed, n_embed)\n",
    "        self.dropout = nn.Dropout(0.1)\n",
    "\n",
    "    def forward(self, x):\n",
    "        out = torch.cat([h(x) for h in self.heads], dim=-1)\n",
    "        return self.dropout(self.proj(out))\n",
    "\n",
    "\n",
    "class MultiHeadDecoder(nn.Module):\n",
    "    def __init__(self, num_heads, head_size):\n",
    "        super().__init__()\n",
    "        self.heads = nn.ModuleList([HeadDecoder(head_size) for _ in range(num_heads)])\n",
    "        self.proj = nn.Linear(n_embed, n_embed)\n",
    "        self.dropout = nn.Dropout(0.1)\n",
    "\n",
    "    def forward(self, x, k, v):\n",
    "        out = torch.cat([h(x, k, v) for h in self.heads], dim=-1)\n",
    "        return self.dropout(self.proj(out))"
   ],
   "metadata": {
    "collapsed": false,
    "ExecuteTime": {
     "end_time": "2024-04-08T20:59:48.654315226Z",
     "start_time": "2024-04-08T20:59:48.638009205Z"
    }
   },
   "id": "3bb13f5732a3e657",
   "execution_count": 101
  },
  {
   "cell_type": "code",
   "outputs": [],
   "source": [
    "class FeedForward(nn.Module):\n",
    "    def __init__(self, hidden_size):\n",
    "        super().__init__()\n",
    "        self.net = nn.Sequential(\n",
    "            nn.Linear(hidden_size, 4 * hidden_size),\n",
    "            nn.ReLU(),\n",
    "            nn.Linear(4 * hidden_size, hidden_size),\n",
    "            nn.Dropout(0.1),\n",
    "        )\n",
    "\n",
    "    def forward(self, x):\n",
    "        return self.net(x)"
   ],
   "metadata": {
    "collapsed": false,
    "ExecuteTime": {
     "end_time": "2024-04-08T20:59:48.816411873Z",
     "start_time": "2024-04-08T20:59:48.654030440Z"
    }
   },
   "id": "7631bf1ebdc37a38",
   "execution_count": 102
  },
  {
   "cell_type": "code",
   "outputs": [],
   "source": [
    "class BlockDecoder(nn.Module):\n",
    "    def __init__(self, n_embed, n_head):\n",
    "        super().__init__()\n",
    "        head_size = n_embed // n_head\n",
    "        self.msa_heads = MaskedMultiHead(n_head, head_size)\n",
    "        self.sa_heads = MultiHeadDecoder(n_head, head_size)\n",
    "        self.feed_forward = FeedForward(n_embed)\n",
    "        self.layer_norm1 = nn.LayerNorm(n_embed)\n",
    "        self.layer_norm2 = nn.LayerNorm(n_embed)\n",
    "        self.layer_norm3 = nn.LayerNorm(n_embed)\n",
    "\n",
    "    def forward(self, x, k, v):\n",
    "        x = x + self.msa_heads(self.layer_norm1(x))\n",
    "        x = x + self.sa_heads(self.layer_norm2(x), k, v)\n",
    "        x = x + self.feed_forward(self.layer_norm3(x))\n",
    "        return x\n",
    "\n",
    "\n",
    "class BlockEncoder(nn.Module):\n",
    "    def __init__(self, n_embed, n_head, head_size):\n",
    "        super().__init__()\n",
    "        self.sa_heads = MultiHeadEncoder(n_head, head_size)\n",
    "        self.feed_forward = FeedForward(n_embed)\n",
    "        self.layer_norm1 = nn.LayerNorm(n_embed)\n",
    "        self.layer_norm2 = nn.LayerNorm(n_embed)\n",
    "\n",
    "    def forward(self, x):\n",
    "        x = x + self.sa_heads(self.layer_norm1(x))\n",
    "        x = x + self.feed_forward(self.layer_norm2(x))\n",
    "        return x"
   ],
   "metadata": {
    "collapsed": false,
    "ExecuteTime": {
     "end_time": "2024-04-08T20:59:48.824045768Z",
     "start_time": "2024-04-08T20:59:48.697598203Z"
    }
   },
   "id": "3e46d2ed4d9057f6",
   "execution_count": 103
  },
  {
   "cell_type": "code",
   "outputs": [],
   "source": [
    "class Decoder(nn.Module):\n",
    "\n",
    "    def __init__(self):\n",
    "        super().__init__()\n",
    "        self.token_embedding_table = nn.Embedding(vocab_size, n_embed)\n",
    "        self.position_embedding_table = nn.Embedding(seq_len, n_embed)\n",
    "        self.blocks = [BlockDecoder(n_embed, num_heads) for _ in range(3)]\n",
    "        self.blocks = nn.ModuleList(self.blocks)\n",
    "        self.layer_norm = nn.LayerNorm(n_embed)\n",
    "        self.lm_head = nn.Linear(n_embed, vocab_size)\n",
    "\n",
    "    def forward(self, idx, k, v, targets=None):\n",
    "        B, T = idx.shape\n",
    "        token_embedding = self.token_embedding_table(idx)\n",
    "        position_embedding = self.position_embedding_table(torch.arange(T))\n",
    "        x = token_embedding + position_embedding\n",
    "        for block in self.blocks:\n",
    "            x = block(x, k, v)\n",
    "        x = self.layer_norm(x)\n",
    "        logits = self.lm_head(x)\n",
    "\n",
    "        loss = None\n",
    "        if targets is not None:\n",
    "            B, T, C = logits.shape\n",
    "            logits = logits.view(B * T, C)\n",
    "            targets = targets.view(B * T)\n",
    "            loss = F.cross_entropy(logits, targets)\n",
    "\n",
    "        return logits, loss\n",
    "\n",
    "    def generate(self, idx, n):\n",
    "        for _ in range(n):\n",
    "            idx_crop = idx[:, -seq_len:]\n",
    "            logits, _ = self(idx_crop)\n",
    "            logits = logits[:, -1, :]\n",
    "            p = F.softmax(logits, dim=-1)\n",
    "            next_token = torch.multinomial(p, num_samples=1)\n",
    "            idx = torch.cat((idx, next_token), dim=1)\n",
    "        return idx"
   ],
   "metadata": {
    "collapsed": false,
    "ExecuteTime": {
     "end_time": "2024-04-08T20:59:48.851277092Z",
     "start_time": "2024-04-08T20:59:48.821959094Z"
    }
   },
   "id": "a4c34b6342b0c540",
   "execution_count": 104
  },
  {
   "cell_type": "code",
   "outputs": [],
   "source": [
    "class Encoder(nn.Module):\n",
    "\n",
    "    def __init__(self):\n",
    "        super().__init__()\n",
    "        head_size = n_embed // num_heads\n",
    "        self.token_embedding_table = nn.Embedding(vocab_size, n_embed)\n",
    "        self.position_embedding_table = nn.Embedding(seq_len, n_embed)\n",
    "        self.blocks = nn.Sequential(*[BlockEncoder(n_embed, num_heads, head_size) for _ in range(2)])\n",
    "        self.layer_norm = nn.LayerNorm(n_embed)\n",
    "        self.key_projection = nn.Linear(n_embed, head_size)\n",
    "        self.value_projection = nn.Linear(n_embed, head_size)\n",
    "\n",
    "    def forward(self, idx):\n",
    "        B, T = idx.shape\n",
    "        token_embedding = self.token_embedding_table(idx)\n",
    "        position_embedding = self.position_embedding_table(torch.arange(T))\n",
    "        x = token_embedding + position_embedding\n",
    "        x = self.blocks(x)\n",
    "        x = self.layer_norm(x)\n",
    "        k = self.key_projection(x)\n",
    "        v = self.value_projection(x)\n",
    "        return k, v"
   ],
   "metadata": {
    "collapsed": false,
    "ExecuteTime": {
     "end_time": "2024-04-08T20:59:48.867743224Z",
     "start_time": "2024-04-08T20:59:48.855362194Z"
    }
   },
   "id": "8a1801b072224005",
   "execution_count": 105
  },
  {
   "cell_type": "code",
   "outputs": [],
   "source": [
    "class EncoderDecoder(nn.Module):\n",
    "\n",
    "    def __init__(self):\n",
    "        super().__init__()\n",
    "        self.encoder = Encoder()\n",
    "        self.decoder = Decoder()\n",
    "\n",
    "    def forward(self, prompt, response, targets=None):\n",
    "        k, v = self.encoder(prompt)\n",
    "\n",
    "        x, loss = self.decoder(response, k, v, targets)\n",
    "        return x, loss\n",
    "\n",
    "    def generate(self, prompt, idx, n):\n",
    "        for _ in range(n):\n",
    "            idx_crop = idx[:, -seq_len:]\n",
    "            logits, _ = self(idx_crop, prompt)\n",
    "            logits = logits[:, -1, :]\n",
    "            p = F.softmax(logits, dim=-1)\n",
    "            next_token = torch.multinomial(p, num_samples=1)\n",
    "            idx = torch.cat((idx, next_token), dim=1)\n",
    "        return idx"
   ],
   "metadata": {
    "collapsed": false,
    "ExecuteTime": {
     "end_time": "2024-04-08T20:59:48.905950146Z",
     "start_time": "2024-04-08T20:59:48.869110625Z"
    }
   },
   "id": "56546bda66bb7936",
   "execution_count": 106
  },
  {
   "cell_type": "code",
   "outputs": [],
   "source": [
    "@torch.no_grad()\n",
    "def estimate_loss(model, eval_iters=200):\n",
    "    out = {}\n",
    "    model.eval()\n",
    "    for split in ['train', 'val']:\n",
    "        losses = torch.zeros(eval_iters)\n",
    "        for k in range(eval_iters):\n",
    "            x, y, x_ans, y_ans = get_batches(questions, answers) if split == 'train' else get_batches(questions_val, answers_val)\n",
    "            logits, loss = model(x, y, x_ans)\n",
    "            losses[k] = loss.item()\n",
    "        out[split] = losses.mean()\n",
    "    model.train()\n",
    "    return out"
   ],
   "metadata": {
    "collapsed": false,
    "ExecuteTime": {
     "end_time": "2024-04-08T20:59:48.906372901Z",
     "start_time": "2024-04-08T20:59:48.893851948Z"
    }
   },
   "id": "98b115d0c225d802",
   "execution_count": 107
  },
  {
   "cell_type": "code",
   "outputs": [],
   "source": [
    "import os\n",
    "\n",
    "\n",
    "def notify_end_of_cell(message=\"Cell execution completed!\"):\n",
    "    os.system(f'notify-send \"Jupyter Cell Notification\" \"{message}\"')"
   ],
   "metadata": {
    "collapsed": false,
    "ExecuteTime": {
     "end_time": "2024-04-08T20:59:48.918942096Z",
     "start_time": "2024-04-08T20:59:48.906217128Z"
    }
   },
   "id": "71db8c4f4cc58692",
   "execution_count": 108
  },
  {
   "cell_type": "code",
   "outputs": [],
   "source": [
    "m = EncoderDecoder()"
   ],
   "metadata": {
    "collapsed": false,
    "ExecuteTime": {
     "end_time": "2024-04-08T20:59:48.946039218Z",
     "start_time": "2024-04-08T20:59:48.909087496Z"
    }
   },
   "id": "a13a2c9eb8ff02d2",
   "execution_count": 109
  },
  {
   "cell_type": "code",
   "outputs": [
    {
     "name": "stdout",
     "output_type": "stream",
     "text": [
      "Iter 0, train loss: 4.723, val loss: 4.720\n",
      "Iter 5, train loss: 4.225, val loss: 4.234\n",
      "Iter 10, train loss: 3.773, val loss: 3.799\n",
      "Iter 15, train loss: 3.379, val loss: 3.413\n",
      "Iter 20, train loss: 3.038, val loss: 3.064\n",
      "Iter 25, train loss: 2.761, val loss: 2.803\n",
      "Iter 30, train loss: 2.559, val loss: 2.606\n",
      "Iter 35, train loss: 2.402, val loss: 2.435\n",
      "Iter 40, train loss: 2.267, val loss: 2.310\n",
      "Iter 45, train loss: 2.167, val loss: 2.208\n",
      "Iter 50, train loss: 2.082, val loss: 2.141\n",
      "Iter 55, train loss: 1.997, val loss: 2.064\n",
      "Iter 60, train loss: 1.927, val loss: 1.966\n",
      "Iter 65, train loss: 1.873, val loss: 1.912\n",
      "Iter 70, train loss: 1.811, val loss: 1.866\n",
      "Iter 75, train loss: 1.777, val loss: 1.827\n",
      "Iter 80, train loss: 1.732, val loss: 1.776\n",
      "Iter 85, train loss: 1.672, val loss: 1.734\n",
      "Iter 90, train loss: 1.622, val loss: 1.673\n",
      "Iter 95, train loss: 1.603, val loss: 1.683\n",
      "Iter 100, train loss: 1.576, val loss: 1.640\n",
      "Iter 105, train loss: 1.543, val loss: 1.591\n",
      "Iter 110, train loss: 1.524, val loss: 1.586\n",
      "Iter 115, train loss: 1.491, val loss: 1.563\n",
      "Iter 120, train loss: 1.480, val loss: 1.536\n",
      "Iter 125, train loss: 1.457, val loss: 1.522\n",
      "Iter 130, train loss: 1.442, val loss: 1.491\n",
      "Iter 135, train loss: 1.406, val loss: 1.494\n",
      "Iter 140, train loss: 1.435, val loss: 1.500\n",
      "Iter 145, train loss: 1.388, val loss: 1.449\n",
      "Iter 150, train loss: 1.385, val loss: 1.432\n",
      "Iter 155, train loss: 1.362, val loss: 1.431\n",
      "Iter 160, train loss: 1.367, val loss: 1.434\n",
      "Iter 165, train loss: 1.343, val loss: 1.429\n",
      "Iter 170, train loss: 1.351, val loss: 1.413\n",
      "Iter 175, train loss: 1.345, val loss: 1.393\n",
      "Iter 180, train loss: 1.317, val loss: 1.404\n",
      "Iter 185, train loss: 1.306, val loss: 1.391\n",
      "Iter 190, train loss: 1.304, val loss: 1.366\n",
      "Iter 195, train loss: 1.271, val loss: 1.360\n",
      "Iter 200, train loss: 1.300, val loss: 1.360\n",
      "Iter 205, train loss: 1.283, val loss: 1.311\n",
      "Iter 210, train loss: 1.267, val loss: 1.335\n",
      "Iter 215, train loss: 1.255, val loss: 1.319\n",
      "Iter 220, train loss: 1.233, val loss: 1.291\n",
      "Iter 225, train loss: 1.242, val loss: 1.318\n",
      "Iter 230, train loss: 1.223, val loss: 1.279\n",
      "Iter 235, train loss: 1.223, val loss: 1.269\n",
      "Iter 240, train loss: 1.230, val loss: 1.246\n",
      "Iter 245, train loss: 1.193, val loss: 1.236\n",
      "Iter 250, train loss: 1.207, val loss: 1.240\n",
      "Iter 255, train loss: 1.162, val loss: 1.250\n",
      "Iter 260, train loss: 1.143, val loss: 1.228\n",
      "Iter 265, train loss: 1.134, val loss: 1.182\n",
      "Iter 270, train loss: 1.145, val loss: 1.204\n",
      "Iter 275, train loss: 1.121, val loss: 1.190\n",
      "Iter 280, train loss: 1.123, val loss: 1.184\n",
      "Iter 285, train loss: 1.098, val loss: 1.161\n",
      "Iter 290, train loss: 1.087, val loss: 1.147\n",
      "Iter 295, train loss: 1.108, val loss: 1.133\n",
      "Iter 300, train loss: 1.100, val loss: 1.158\n",
      "Iter 305, train loss: 1.096, val loss: 1.144\n",
      "Iter 310, train loss: 1.092, val loss: 1.130\n",
      "Iter 315, train loss: 1.070, val loss: 1.146\n",
      "Iter 320, train loss: 1.071, val loss: 1.136\n",
      "Iter 325, train loss: 1.064, val loss: 1.125\n",
      "Iter 330, train loss: 1.081, val loss: 1.126\n",
      "Iter 335, train loss: 1.058, val loss: 1.120\n",
      "Iter 340, train loss: 1.057, val loss: 1.134\n",
      "Iter 345, train loss: 1.073, val loss: 1.115\n",
      "Iter 350, train loss: 1.059, val loss: 1.112\n",
      "Iter 355, train loss: 1.033, val loss: 1.102\n",
      "Iter 360, train loss: 1.028, val loss: 1.102\n",
      "Iter 365, train loss: 1.037, val loss: 1.076\n",
      "Iter 370, train loss: 1.034, val loss: 1.088\n",
      "Iter 375, train loss: 1.027, val loss: 1.109\n",
      "Iter 380, train loss: 1.034, val loss: 1.082\n",
      "Iter 385, train loss: 1.019, val loss: 1.093\n",
      "Iter 390, train loss: 1.033, val loss: 1.083\n",
      "Iter 395, train loss: 1.019, val loss: 1.082\n",
      "Iter 400, train loss: 1.012, val loss: 1.105\n",
      "Iter 405, train loss: 1.006, val loss: 1.097\n",
      "Iter 410, train loss: 1.034, val loss: 1.082\n",
      "Iter 415, train loss: 1.025, val loss: 1.068\n",
      "Iter 420, train loss: 1.005, val loss: 1.059\n",
      "Iter 425, train loss: 1.013, val loss: 1.084\n",
      "Iter 430, train loss: 1.001, val loss: 1.046\n",
      "Iter 435, train loss: 1.046, val loss: 1.084\n",
      "Iter 440, train loss: 1.005, val loss: 1.078\n",
      "Iter 445, train loss: 0.995, val loss: 1.062\n",
      "Iter 450, train loss: 0.987, val loss: 1.081\n",
      "Iter 455, train loss: 1.009, val loss: 1.030\n",
      "Iter 460, train loss: 1.020, val loss: 1.073\n",
      "Iter 465, train loss: 1.023, val loss: 1.049\n",
      "Iter 470, train loss: 1.019, val loss: 1.067\n",
      "Iter 475, train loss: 1.002, val loss: 1.077\n",
      "Iter 480, train loss: 1.018, val loss: 1.078\n",
      "Iter 485, train loss: 1.008, val loss: 1.048\n",
      "Iter 490, train loss: 0.994, val loss: 1.052\n",
      "Iter 495, train loss: 1.015, val loss: 1.070\n",
      "Iter 500, train loss: 0.990, val loss: 1.054\n",
      "Iter 505, train loss: 0.980, val loss: 1.067\n",
      "Iter 510, train loss: 0.965, val loss: 1.066\n",
      "Iter 515, train loss: 1.002, val loss: 1.053\n",
      "Iter 520, train loss: 0.996, val loss: 1.061\n",
      "Iter 525, train loss: 0.989, val loss: 1.060\n",
      "Iter 530, train loss: 0.987, val loss: 1.044\n",
      "Iter 535, train loss: 0.994, val loss: 1.048\n",
      "Iter 540, train loss: 0.992, val loss: 1.059\n",
      "Iter 545, train loss: 0.987, val loss: 1.037\n",
      "Iter 550, train loss: 0.979, val loss: 1.053\n",
      "Iter 555, train loss: 1.000, val loss: 1.062\n",
      "Iter 560, train loss: 0.987, val loss: 1.047\n",
      "Iter 565, train loss: 0.995, val loss: 1.020\n",
      "Iter 570, train loss: 0.996, val loss: 1.041\n",
      "Iter 575, train loss: 0.986, val loss: 1.034\n",
      "Iter 580, train loss: 1.005, val loss: 1.078\n",
      "Iter 585, train loss: 0.978, val loss: 1.048\n",
      "Iter 590, train loss: 0.976, val loss: 1.042\n",
      "Iter 595, train loss: 0.990, val loss: 1.045\n",
      "Iter 600, train loss: 0.965, val loss: 1.034\n",
      "Iter 605, train loss: 0.981, val loss: 1.063\n",
      "Iter 610, train loss: 0.962, val loss: 1.049\n",
      "Iter 615, train loss: 0.968, val loss: 1.038\n",
      "Iter 620, train loss: 0.985, val loss: 1.051\n",
      "Iter 625, train loss: 0.964, val loss: 1.037\n",
      "Iter 630, train loss: 0.986, val loss: 1.043\n",
      "Iter 635, train loss: 0.968, val loss: 1.020\n",
      "Iter 640, train loss: 0.985, val loss: 1.036\n",
      "Iter 645, train loss: 0.977, val loss: 1.049\n",
      "Iter 650, train loss: 0.973, val loss: 1.029\n",
      "Iter 655, train loss: 0.969, val loss: 1.034\n",
      "Iter 660, train loss: 0.963, val loss: 1.062\n",
      "Iter 665, train loss: 0.970, val loss: 1.068\n",
      "Iter 670, train loss: 0.981, val loss: 1.026\n",
      "Iter 675, train loss: 0.963, val loss: 1.040\n",
      "Iter 680, train loss: 0.987, val loss: 1.043\n",
      "Iter 685, train loss: 0.979, val loss: 1.025\n",
      "Iter 690, train loss: 0.972, val loss: 1.026\n",
      "Iter 695, train loss: 0.964, val loss: 1.032\n",
      "Iter 700, train loss: 0.971, val loss: 1.056\n",
      "Iter 705, train loss: 0.974, val loss: 1.030\n",
      "Iter 710, train loss: 0.974, val loss: 1.026\n",
      "Iter 715, train loss: 0.980, val loss: 1.021\n",
      "Iter 720, train loss: 0.953, val loss: 1.040\n",
      "Iter 725, train loss: 0.984, val loss: 1.030\n",
      "Iter 730, train loss: 0.973, val loss: 1.033\n",
      "Iter 735, train loss: 0.965, val loss: 1.035\n",
      "Iter 740, train loss: 0.975, val loss: 1.024\n",
      "Iter 745, train loss: 0.961, val loss: 1.030\n",
      "Iter 750, train loss: 0.954, val loss: 1.032\n",
      "Iter 755, train loss: 0.967, val loss: 1.011\n",
      "Iter 760, train loss: 0.964, val loss: 1.019\n",
      "Iter 765, train loss: 0.949, val loss: 1.017\n",
      "Iter 770, train loss: 0.959, val loss: 1.048\n",
      "Iter 775, train loss: 0.962, val loss: 1.070\n",
      "Iter 780, train loss: 0.964, val loss: 1.027\n",
      "Iter 785, train loss: 0.962, val loss: 1.048\n",
      "Iter 790, train loss: 0.979, val loss: 1.047\n",
      "Iter 795, train loss: 0.958, val loss: 1.044\n",
      "Iter 800, train loss: 0.959, val loss: 1.025\n",
      "Iter 805, train loss: 0.978, val loss: 1.032\n",
      "Iter 810, train loss: 0.989, val loss: 1.029\n",
      "Iter 815, train loss: 0.974, val loss: 1.023\n",
      "Iter 820, train loss: 0.982, val loss: 1.009\n",
      "Iter 825, train loss: 0.984, val loss: 1.025\n",
      "Iter 830, train loss: 0.965, val loss: 0.999\n",
      "Iter 835, train loss: 0.943, val loss: 1.000\n",
      "Iter 840, train loss: 0.948, val loss: 1.023\n",
      "Iter 845, train loss: 0.938, val loss: 1.017\n",
      "Iter 850, train loss: 0.965, val loss: 1.037\n",
      "Iter 855, train loss: 0.954, val loss: 1.011\n",
      "Iter 860, train loss: 0.965, val loss: 1.015\n",
      "Iter 865, train loss: 0.954, val loss: 1.011\n",
      "Iter 870, train loss: 0.962, val loss: 1.019\n",
      "Iter 875, train loss: 0.968, val loss: 1.047\n",
      "Iter 880, train loss: 1.001, val loss: 1.027\n",
      "Iter 885, train loss: 0.965, val loss: 1.032\n",
      "Iter 890, train loss: 0.950, val loss: 1.020\n",
      "Iter 895, train loss: 0.964, val loss: 1.001\n",
      "Iter 900, train loss: 0.956, val loss: 1.028\n",
      "Iter 905, train loss: 0.959, val loss: 1.009\n",
      "Iter 910, train loss: 0.957, val loss: 1.022\n",
      "Iter 915, train loss: 0.974, val loss: 1.045\n",
      "Iter 920, train loss: 0.933, val loss: 1.018\n",
      "Iter 925, train loss: 0.949, val loss: 1.009\n",
      "Iter 930, train loss: 0.945, val loss: 1.013\n",
      "Iter 935, train loss: 0.938, val loss: 1.000\n",
      "Iter 940, train loss: 0.953, val loss: 1.008\n",
      "Iter 945, train loss: 0.965, val loss: 1.031\n",
      "Iter 950, train loss: 0.962, val loss: 1.011\n",
      "Iter 955, train loss: 0.972, val loss: 1.019\n",
      "Iter 960, train loss: 0.946, val loss: 1.004\n",
      "Iter 965, train loss: 0.960, val loss: 0.996\n",
      "Iter 970, train loss: 0.952, val loss: 1.002\n",
      "Iter 975, train loss: 0.936, val loss: 1.011\n",
      "Iter 980, train loss: 0.959, val loss: 1.015\n",
      "Iter 985, train loss: 0.971, val loss: 1.018\n",
      "Iter 990, train loss: 0.945, val loss: 1.004\n",
      "Iter 995, train loss: 0.960, val loss: 1.014\n"
     ]
    }
   ],
   "source": [
    "optimizer = torch.optim.Adam(m.parameters(), lr=0.0003)\n",
    "\n",
    "history = []\n",
    "eval_interval = 5\n",
    "max_iter = 1000\n",
    "for iter in range(max_iter):\n",
    "    if iter % eval_interval == 0:\n",
    "        losses = estimate_loss(m)\n",
    "        history.append((iter, losses))\n",
    "        print(f'Iter {iter}, train loss: {losses[\"train\"]:.3f}, val loss: {losses[\"val\"]:.3f}')\n",
    "\n",
    "    x, y, x_ans, y_ans = get_batches(questions, answers)\n",
    "    logits, loss = m(x, y, x_ans)\n",
    "    optimizer.zero_grad(set_to_none=True)\n",
    "    loss.backward()\n",
    "    optimizer.step()\n",
    "notify_end_of_cell()"
   ],
   "metadata": {
    "collapsed": false,
    "ExecuteTime": {
     "end_time": "2024-04-08T21:17:53.594386152Z",
     "start_time": "2024-04-08T20:59:48.946400517Z"
    }
   },
   "id": "873ab0ac2df82323",
   "execution_count": 110
  },
  {
   "cell_type": "code",
   "outputs": [
    {
     "data": {
      "text/plain": "[<matplotlib.lines.Line2D at 0x722e64db8d50>]"
     },
     "execution_count": 111,
     "metadata": {},
     "output_type": "execute_result"
    },
    {
     "data": {
      "text/plain": "<Figure size 2500x500 with 1 Axes>",
      "image/png": "[encoded data removed]"
     },
     "metadata": {},
     "output_type": "display_data"
    }
   ],
   "source": [
    "import matplotlib.pyplot as plt\n",
    "\n",
    "plt.figure(figsize=(25, 5))\n",
    "\n",
    "x = [h[0] for h in history]\n",
    "y = [h[1]['train'] for h in history]\n",
    "y_val = [h[1]['val'] for h in history]\n",
    "plt.plot(x, y, label='train')\n",
    "plt.plot(x, y_val, label='val')"
   ],
   "metadata": {
    "collapsed": false,
    "ExecuteTime": {
     "end_time": "2024-04-08T21:17:53.746947860Z",
     "start_time": "2024-04-08T21:17:53.609933065Z"
    }
   },
   "id": "11094736f4f7ede6",
   "execution_count": 111
  },
  {
   "cell_type": "code",
   "outputs": [
    {
     "name": "stdout",
     "output_type": "stream",
     "text": [
      "ccccccccccccccccccccccccccccccccccccccnccccccccccccccccccccccccccccccccccccccccccccccccccccccccccccccccccccccccccccccccccccccccccccccccccccccccccccccsccccccccciccccccccccccccccccccccc ccccccccccccccccccccccccccccccccccccccccccccccccäccfccccccccdcccciccccccccccccccccccccccccccccccccccsccccccaccccccccccccccclcccccccccccccccccccccccccccccccccccccccccccccccccccccccccccccccccccccccccccnclccccccccAccccccccccccccccccccccccccccccccc/cccccccccccccccccccclciccccccccccccccccccccccccccccccccccccccccccccccccccccccccccccccccccccÉcccccccccccccccccccccccccccccccchccccccccccccccccccccccccccccccccmccctcccccccccccchccccccccccccccccccccccccccccccccccccccccccccccccccccccrcccccccccccccccccccacccnucccccccccccccccccccccccccccccccccccccccccccc cccccctccccccccccccccccccccccccccc crccccccncc3cccccccccccccäcccccccccccccccccccccccccccccccccccccccccccccccccccccccccccccccccccccccccccccccccccccccccccccccccccccccccccccccccccccccccccccccccceccccfcccccccccccccccccccccccccccccccccccccccccccccccccccccpcccccccccccccccccccco\n"
     ]
    }
   ],
   "source": [
    "prompt = 'What is the capital of France?'\n",
    "prompt = torch.tensor(truncate_sequences([encode(prompt)], seq_len))\n",
    "idx = torch.zeros((1, 1), dtype=torch.long)\n",
    "print(decode(m.generate(prompt, idx, 1000)[0].tolist()))"
   ],
   "metadata": {
    "collapsed": false,
    "ExecuteTime": {
     "end_time": "2024-04-08T21:18:05.157591086Z",
     "start_time": "2024-04-08T21:17:53.747156232Z"
    }
   },
   "id": "c266e5c673669841",
   "execution_count": 112
  },
  {
   "cell_type": "code",
   "outputs": [],
   "source": [
    "torch.save(m.state_dict(), './models/parallel_checkpoints_64_2.pth')"
   ],
   "metadata": {
    "collapsed": false,
    "ExecuteTime": {
     "end_time": "2024-04-08T21:18:05.276009724Z",
     "start_time": "2024-04-08T21:18:05.158558325Z"
    }
   },
   "id": "21360823cf1ce48f",
   "execution_count": 113
  }
 ],
 "metadata": {
  "kernelspec": {
   "display_name": "Python 3",
   "language": "python",
   "name": "python3"
  },
  "language_info": {
   "codemirror_mode": {
    "name": "ipython",
    "version": 3
   },
   "file_extension": ".py",
   "mimetype": "text/x-python",
   "name": "python",
   "nbconvert_exporter": "python",
   "pygments_lexer": "ipython3",
   "version": "3.11.5"
  }
 },
 "nbformat": 4,
 "nbformat_minor": 5
}
