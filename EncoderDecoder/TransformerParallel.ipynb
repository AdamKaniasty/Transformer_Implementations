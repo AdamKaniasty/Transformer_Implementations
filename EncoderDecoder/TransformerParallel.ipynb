{
 "cells": [
  {
   "cell_type": "code",
   "outputs": [],
   "source": [
    "import pandas as pd\n",
    "\n",
    "train = pd.read_json('data/trainmodel.json')\n",
    "validate = pd.read_json('data/val.json')\n",
    "\n",
    "train['answers'] = train['answers'].apply(lambda x: x[0])\n",
    "validate['answers'] = validate['answers'].apply(lambda x: x[0])"
   ],
   "metadata": {
    "collapsed": false,
    "ExecuteTime": {
     "end_time": "2024-04-08T21:34:43.822141422Z",
     "start_time": "2024-04-08T21:34:43.807213462Z"
    }
   },
   "id": "a388de46bf01c410",
   "execution_count": 255
  },
  {
   "cell_type": "code",
   "outputs": [
    {
     "data": {
      "text/plain": "         qId        answers                                              qText\n0  wqr000001  Padmé Amidala  what character did natalie portman play in sta...\n1  wqr000002  New York City                      what state does selena gomez?\n2  wqr000003        Bahamas        what country is the grand bahama island in?\n3  wqr000005    Denethor II  what character did john noble play in lord of ...\n4  wqr000006  Chicago Bulls                     who does joakim noah play for?",
      "text/html": "<div>\n<style scoped>\n    .dataframe tbody tr th:only-of-type {\n        vertical-align: middle;\n    }\n\n    .dataframe tbody tr th {\n        vertical-align: top;\n    }\n\n    .dataframe thead th {\n        text-align: right;\n    }\n</style>\n<table border=\"1\" class=\"dataframe\">\n  <thead>\n    <tr style=\"text-align: right;\">\n      <th></th>\n      <th>qId</th>\n      <th>answers</th>\n      <th>qText</th>\n    </tr>\n  </thead>\n  <tbody>\n    <tr>\n      <th>0</th>\n      <td>wqr000001</td>\n      <td>Padmé Amidala</td>\n      <td>what character did natalie portman play in sta...</td>\n    </tr>\n    <tr>\n      <th>1</th>\n      <td>wqr000002</td>\n      <td>New York City</td>\n      <td>what state does selena gomez?</td>\n    </tr>\n    <tr>\n      <th>2</th>\n      <td>wqr000003</td>\n      <td>Bahamas</td>\n      <td>what country is the grand bahama island in?</td>\n    </tr>\n    <tr>\n      <th>3</th>\n      <td>wqr000005</td>\n      <td>Denethor II</td>\n      <td>what character did john noble play in lord of ...</td>\n    </tr>\n    <tr>\n      <th>4</th>\n      <td>wqr000006</td>\n      <td>Chicago Bulls</td>\n      <td>who does joakim noah play for?</td>\n    </tr>\n  </tbody>\n</table>\n</div>"
     },
     "execution_count": 256,
     "metadata": {},
     "output_type": "execute_result"
    }
   ],
   "source": [
    "train.head(5)"
   ],
   "metadata": {
    "collapsed": false,
    "ExecuteTime": {
     "end_time": "2024-04-08T21:34:43.866839280Z",
     "start_time": "2024-04-08T21:34:43.822275094Z"
    }
   },
   "id": "fd83109d27cae1db",
   "execution_count": 256
  },
  {
   "cell_type": "code",
   "outputs": [],
   "source": [
    "questions = train['qText'].values\n",
    "answers = train['answers'].values\n",
    "questions_val = validate['qText'].values\n",
    "answers_val = validate['answers'].values\n",
    "\n",
    "questions_text = \" \".join(list(questions))\n",
    "answers_text = \" \".join(list(answers))\n",
    "questions_val_text = \" \".join(list(questions_val))\n",
    "answers_val_text = \" \".join(list(answers_val))\n",
    "\n",
    "full_text = \"$\" + questions_text + \" \" + answers_text + \" \" + questions_val_text + \" \" + answers_val_text + \"@\""
   ],
   "metadata": {
    "collapsed": false,
    "ExecuteTime": {
     "end_time": "2024-04-08T21:34:43.867416305Z",
     "start_time": "2024-04-08T21:34:43.854088053Z"
    }
   },
   "id": "25c796eafcfdf7a0",
   "execution_count": 257
  },
  {
   "cell_type": "code",
   "outputs": [],
   "source": [
    "vocab_size = len(set(full_text))\n",
    "encoder_map = {'$': 0, '@': 1}\n",
    "decoder_map = {0: '$', 1: '@'}\n",
    "unique_chars = set(full_text)\n",
    "\n",
    "for i, c in enumerate(unique_chars.difference({'$', '@'}), start=2):\n",
    "    encoder_map[c] = i\n",
    "    decoder_map[i] = c\n",
    "\n",
    "encode = lambda x: [encoder_map[c] for c in x]\n",
    "decode = lambda x: ''.join([decoder_map[i] for i in x])\n"
   ],
   "metadata": {
    "collapsed": false,
    "ExecuteTime": {
     "end_time": "2024-04-08T21:34:43.867769439Z",
     "start_time": "2024-04-08T21:34:43.854209371Z"
    }
   },
   "id": "56d610e0a443e539",
   "execution_count": 258
  },
  {
   "cell_type": "code",
   "outputs": [
    {
     "data": {
      "text/plain": "([0, 0, 0, 6, 52, 79, 8, 91, 79, 8, 9, 68, 11, 18, 1], '$$$Test string@')"
     },
     "execution_count": 259,
     "metadata": {},
     "output_type": "execute_result"
    }
   ],
   "source": [
    "encode(\"$$$Test string@\"), decode(encode(\"$$$Test string@\"))"
   ],
   "metadata": {
    "collapsed": false,
    "ExecuteTime": {
     "end_time": "2024-04-08T21:34:43.868175753Z",
     "start_time": "2024-04-08T21:34:43.854334506Z"
    }
   },
   "id": "d2d306d750fdb8c",
   "execution_count": 259
  },
  {
   "cell_type": "code",
   "outputs": [],
   "source": [
    "import torch\n",
    "\n",
    "torch.manual_seed(2115)\n",
    "batch_size = 16\n",
    "seq_len = 64\n",
    "n_embed = 32\n",
    "num_heads = 8\n",
    "\n",
    "\n",
    "def pad_sequences(sequences, seq_len):\n",
    "    padded_sequences = [[0] * (seq_len - len(seq)) + seq for seq in sequences]\n",
    "    return padded_sequences\n",
    "\n",
    "\n",
    "def truncate_sequences(sequences, max_len):\n",
    "    truncated_sequences = [seq[:max_len] for seq in sequences]\n",
    "    return truncated_sequences\n",
    "\n",
    "\n",
    "def get_batches(questions, answers):\n",
    "    idx = torch.randint(0, len(questions), (batch_size,))\n",
    "    batch_questions = questions[idx].tolist()\n",
    "    batch_answers = answers[idx].tolist()\n",
    "\n",
    "    encoded_questions = [encode(q)[:-1] for q in batch_questions]\n",
    "    encoded_answers = [encode(a)[:-1] for a in batch_answers]\n",
    "\n",
    "    y_questions = [encode(q)[1:] for q in batch_questions]\n",
    "    y_answers = [encode(a)[1:] for a in batch_answers]\n",
    "\n",
    "    encoded_questions = truncate_sequences(encoded_questions, seq_len)\n",
    "    encoded_answers = truncate_sequences(encoded_answers, seq_len)\n",
    "    y_questions = truncate_sequences(y_questions, seq_len)\n",
    "    y_answers = truncate_sequences(y_answers, seq_len)\n",
    "\n",
    "    x = pad_sequences(encoded_questions, seq_len)\n",
    "    y = pad_sequences(y_questions, seq_len)\n",
    "    x_ans = pad_sequences(encoded_answers, seq_len)\n",
    "    y_ans = pad_sequences(y_answers, seq_len)\n",
    "\n",
    "    x, y, x_ans, y_ans = map(lambda seqs: torch.tensor(seqs), [x, y, x_ans, y_ans])\n",
    "\n",
    "    return x, y, x_ans, y_ans\n",
    "\n",
    "\n",
    "x, y, x_ans, y_ans = get_batches(questions, answers)"
   ],
   "metadata": {
    "collapsed": false,
    "ExecuteTime": {
     "end_time": "2024-04-08T21:34:43.870889275Z",
     "start_time": "2024-04-08T21:34:43.866751905Z"
    }
   },
   "id": "38603cf7231ae894",
   "execution_count": 260
  },
  {
   "cell_type": "code",
   "outputs": [],
   "source": [
    "import torch.nn as nn\n",
    "from torch.nn import functional as F\n",
    "\n",
    "\n",
    "class MaskedHead(nn.Module):\n",
    "    def __init__(self, head_size):\n",
    "        super().__init__()\n",
    "        self.key = nn.Linear(n_embed, head_size, bias=False)\n",
    "        self.query = nn.Linear(n_embed, head_size, bias=False)\n",
    "        self.value = nn.Linear(n_embed, head_size, bias=False)\n",
    "        self.register_buffer('tril', torch.tril(torch.ones(seq_len, seq_len)))\n",
    "        self.head_size = head_size\n",
    "        self.dropout = nn.Dropout(0.1)\n",
    "\n",
    "    def forward(self, x):\n",
    "        B, T, C = x.shape\n",
    "        k = self.key(x)\n",
    "        q = self.query(x)\n",
    "        v = self.value(x)\n",
    "        weights = q @ k.transpose(-1, -2) * C ** -0.5\n",
    "        weights = weights.masked_fill(self.tril[:T, :T] == 0, float('-inf'))\n",
    "        weights = F.softmax(weights, dim=-1)\n",
    "        weights = self.dropout(weights)\n",
    "        return weights @ v\n",
    "\n",
    "\n",
    "class HeadEncoder(nn.Module):\n",
    "    def __init__(self, head_size):\n",
    "        super().__init__()\n",
    "        self.key = nn.Linear(n_embed, head_size, bias=False)\n",
    "        self.query = nn.Linear(n_embed, head_size, bias=False)\n",
    "        self.value = nn.Linear(n_embed, head_size, bias=False)\n",
    "        self.head_size = head_size\n",
    "        self.dropout = nn.Dropout(0.1)\n",
    "\n",
    "    def forward(self, x):\n",
    "        B, T, C = x.shape\n",
    "        k = self.key(x)\n",
    "        q = self.query(x)\n",
    "        v = self.value(x)\n",
    "        weights = q @ k.transpose(-1, -2) * C ** -0.5\n",
    "        weights = F.softmax(weights, dim=-1)\n",
    "        weights = self.dropout(weights)\n",
    "        return weights @ v\n",
    "\n",
    "\n",
    "class HeadDecoder(nn.Module):\n",
    "    def __init__(self, head_size):\n",
    "        super().__init__()\n",
    "        self.query = nn.Linear(n_embed, head_size, bias=False)\n",
    "        self.head_size = head_size\n",
    "        self.dropout = nn.Dropout(0.1)\n",
    "\n",
    "    def forward(self, x, k, v):\n",
    "        B, T, C = x.shape\n",
    "        q = self.query(x)\n",
    "        weights = q @ k.transpose(-1, -2) * C ** -0.5\n",
    "        weights = F.softmax(weights, dim=-1)\n",
    "        weights = self.dropout(weights)\n",
    "        return weights @ v"
   ],
   "metadata": {
    "collapsed": false,
    "ExecuteTime": {
     "end_time": "2024-04-08T21:34:43.881945875Z",
     "start_time": "2024-04-08T21:34:43.873970679Z"
    }
   },
   "id": "7755ea6141bbbcb9",
   "execution_count": 261
  },
  {
   "cell_type": "code",
   "outputs": [],
   "source": [
    "class MaskedMultiHead(nn.Module):\n",
    "    def __init__(self, num_heads, head_size):\n",
    "        super().__init__()\n",
    "        self.heads = nn.ModuleList([MaskedHead(head_size) for _ in range(num_heads)])\n",
    "        self.proj = nn.Linear(n_embed, n_embed)\n",
    "        self.dropout = nn.Dropout(0.1)\n",
    "\n",
    "    def forward(self, x):\n",
    "        out = torch.cat([h(x) for h in self.heads], dim=-1)\n",
    "        return self.dropout(self.proj(out))\n",
    "\n",
    "\n",
    "class MultiHeadEncoder(nn.Module):\n",
    "    def __init__(self, num_heads, head_size):\n",
    "        super().__init__()\n",
    "        self.heads = nn.ModuleList([HeadEncoder(head_size) for _ in range(num_heads)])\n",
    "        self.proj = nn.Linear(n_embed, n_embed)\n",
    "        self.dropout = nn.Dropout(0.1)\n",
    "\n",
    "    def forward(self, x):\n",
    "        out = torch.cat([h(x) for h in self.heads], dim=-1)\n",
    "        return self.dropout(self.proj(out))\n",
    "\n",
    "\n",
    "class MultiHeadDecoder(nn.Module):\n",
    "    def __init__(self, num_heads, head_size):\n",
    "        super().__init__()\n",
    "        self.heads = nn.ModuleList([HeadDecoder(head_size) for _ in range(num_heads)])\n",
    "        self.proj = nn.Linear(n_embed, n_embed)\n",
    "        self.dropout = nn.Dropout(0.1)\n",
    "\n",
    "    def forward(self, x, k, v):\n",
    "        out = torch.cat([h(x, k, v) for h in self.heads], dim=-1)\n",
    "        return self.dropout(self.proj(out))"
   ],
   "metadata": {
    "collapsed": false,
    "ExecuteTime": {
     "end_time": "2024-04-08T21:34:43.886966375Z",
     "start_time": "2024-04-08T21:34:43.882209441Z"
    }
   },
   "id": "3bb13f5732a3e657",
   "execution_count": 262
  },
  {
   "cell_type": "code",
   "outputs": [],
   "source": [
    "class FeedForward(nn.Module):\n",
    "    def __init__(self, hidden_size):\n",
    "        super().__init__()\n",
    "        self.net = nn.Sequential(\n",
    "            nn.Linear(hidden_size, 4 * hidden_size),\n",
    "            nn.ReLU(),\n",
    "            nn.Linear(4 * hidden_size, hidden_size),\n",
    "            nn.Dropout(0.1),\n",
    "        )\n",
    "\n",
    "    def forward(self, x):\n",
    "        return self.net(x)"
   ],
   "metadata": {
    "collapsed": false,
    "ExecuteTime": {
     "end_time": "2024-04-08T21:34:43.934239756Z",
     "start_time": "2024-04-08T21:34:43.887128090Z"
    }
   },
   "id": "7631bf1ebdc37a38",
   "execution_count": 263
  },
  {
   "cell_type": "code",
   "outputs": [],
   "source": [
    "class BlockDecoder(nn.Module):\n",
    "    def __init__(self, n_embed, n_head):\n",
    "        super().__init__()\n",
    "        head_size = n_embed // n_head\n",
    "        self.msa_heads = MaskedMultiHead(n_head, head_size)\n",
    "        self.sa_heads = MultiHeadDecoder(n_head, head_size)\n",
    "        self.feed_forward = FeedForward(n_embed)\n",
    "        self.layer_norm1 = nn.LayerNorm(n_embed)\n",
    "        self.layer_norm2 = nn.LayerNorm(n_embed)\n",
    "        self.layer_norm3 = nn.LayerNorm(n_embed)\n",
    "\n",
    "    def forward(self, x, k, v):\n",
    "        x = x + self.msa_heads(self.layer_norm1(x))\n",
    "        x = x + self.sa_heads(self.layer_norm2(x), k, v)\n",
    "        x = x + self.feed_forward(self.layer_norm3(x))\n",
    "        return x\n",
    "\n",
    "\n",
    "class BlockEncoder(nn.Module):\n",
    "    def __init__(self, n_embed, n_head, head_size):\n",
    "        super().__init__()\n",
    "        self.sa_heads = MultiHeadEncoder(n_head, head_size)\n",
    "        self.feed_forward = FeedForward(n_embed)\n",
    "        self.layer_norm1 = nn.LayerNorm(n_embed)\n",
    "        self.layer_norm2 = nn.LayerNorm(n_embed)\n",
    "\n",
    "    def forward(self, x):\n",
    "        x = x + self.sa_heads(self.layer_norm1(x))\n",
    "        x = x + self.feed_forward(self.layer_norm2(x))\n",
    "        return x"
   ],
   "metadata": {
    "collapsed": false,
    "ExecuteTime": {
     "end_time": "2024-04-08T21:34:43.934798016Z",
     "start_time": "2024-04-08T21:34:43.918976676Z"
    }
   },
   "id": "3e46d2ed4d9057f6",
   "execution_count": 264
  },
  {
   "cell_type": "code",
   "outputs": [],
   "source": [
    "class Decoder(nn.Module):\n",
    "\n",
    "    def __init__(self):\n",
    "        super().__init__()\n",
    "        self.token_embedding_table = nn.Embedding(vocab_size, n_embed)\n",
    "        self.position_embedding_table = nn.Embedding(seq_len, n_embed)\n",
    "        self.blocks = [BlockDecoder(n_embed, num_heads) for _ in range(3)]\n",
    "        self.blocks = nn.ModuleList(self.blocks)\n",
    "        self.layer_norm = nn.LayerNorm(n_embed)\n",
    "        self.lm_head = nn.Linear(n_embed, vocab_size)\n",
    "\n",
    "    def forward(self, idx, k, v, targets=None):\n",
    "        B, T = idx.shape\n",
    "        token_embedding = self.token_embedding_table(idx)\n",
    "        position_embedding = self.position_embedding_table(torch.arange(T))\n",
    "        x = token_embedding + position_embedding\n",
    "        for block in self.blocks:\n",
    "            x = block(x, k, v)\n",
    "        x = self.layer_norm(x)\n",
    "        logits = self.lm_head(x)\n",
    "\n",
    "        loss = None\n",
    "        if targets is not None:\n",
    "            B, T, C = logits.shape\n",
    "            logits = logits.view(B * T, C)\n",
    "            targets = targets.view(B * T)\n",
    "            loss = F.cross_entropy(logits, targets)\n",
    "\n",
    "        return logits, loss\n",
    "\n",
    "    def generate(self, idx, n):\n",
    "        for _ in range(n):\n",
    "            idx_crop = idx[:, -seq_len:]\n",
    "            logits, _ = self(idx_crop)\n",
    "            logits = logits[:, -1, :]\n",
    "            p = F.softmax(logits, dim=-1)\n",
    "            next_token = torch.multinomial(p, num_samples=1)\n",
    "            idx = torch.cat((idx, next_token), dim=1)\n",
    "        return idx"
   ],
   "metadata": {
    "collapsed": false,
    "ExecuteTime": {
     "end_time": "2024-04-08T21:34:43.935155418Z",
     "start_time": "2024-04-08T21:34:43.919117471Z"
    }
   },
   "id": "a4c34b6342b0c540",
   "execution_count": 265
  },
  {
   "cell_type": "code",
   "outputs": [],
   "source": [
    "class Encoder(nn.Module):\n",
    "\n",
    "    def __init__(self):\n",
    "        super().__init__()\n",
    "        head_size = n_embed // num_heads\n",
    "        self.token_embedding_table = nn.Embedding(vocab_size, n_embed)\n",
    "        self.position_embedding_table = nn.Embedding(seq_len, n_embed)\n",
    "        self.blocks = nn.Sequential(*[BlockEncoder(n_embed, num_heads, head_size) for _ in range(2)])\n",
    "        self.layer_norm = nn.LayerNorm(n_embed)\n",
    "        self.key_projection = nn.Linear(n_embed, head_size)\n",
    "        self.value_projection = nn.Linear(n_embed, head_size)\n",
    "\n",
    "    def forward(self, idx):\n",
    "        B, T = idx.shape\n",
    "        token_embedding = self.token_embedding_table(idx)\n",
    "        position_embedding = self.position_embedding_table(torch.arange(T))\n",
    "        x = token_embedding + position_embedding\n",
    "        x = self.blocks(x)\n",
    "        x = self.layer_norm(x)\n",
    "        k = self.key_projection(x)\n",
    "        v = self.value_projection(x)\n",
    "        return k, v"
   ],
   "metadata": {
    "collapsed": false,
    "ExecuteTime": {
     "end_time": "2024-04-08T21:34:43.935545501Z",
     "start_time": "2024-04-08T21:34:43.919196880Z"
    }
   },
   "id": "8a1801b072224005",
   "execution_count": 266
  },
  {
   "cell_type": "code",
   "outputs": [],
   "source": [
    "class EncoderDecoder(nn.Module):\n",
    "\n",
    "    def __init__(self):\n",
    "        super().__init__()\n",
    "        self.encoder = Encoder()\n",
    "        self.decoder = Decoder()\n",
    "\n",
    "    def forward(self, prompt, response, targets=None):\n",
    "        k, v = self.encoder(prompt)\n",
    "\n",
    "        x, loss = self.decoder(response, k, v, targets)\n",
    "        return x, loss\n",
    "\n",
    "    def generate(self, prompt, idx, n):\n",
    "        for _ in range(n):\n",
    "            idx_crop = idx[:, -seq_len:]\n",
    "            logits, _ = self(idx_crop, prompt)\n",
    "            logits = logits[:, -1, :]\n",
    "            p = F.softmax(logits, dim=-1)\n",
    "            next_token = torch.multinomial(p, num_samples=1)\n",
    "            if next_token == 1 or next_token == [1]:\n",
    "                break\n",
    "            idx = torch.cat((idx, next_token), dim=1)\n",
    "        return idx"
   ],
   "metadata": {
    "collapsed": false,
    "ExecuteTime": {
     "end_time": "2024-04-08T21:34:44.092595239Z",
     "start_time": "2024-04-08T21:34:43.919271009Z"
    }
   },
   "id": "56546bda66bb7936",
   "execution_count": 267
  },
  {
   "cell_type": "code",
   "outputs": [],
   "source": [
    "@torch.no_grad()\n",
    "def estimate_loss(model, eval_iters=200):\n",
    "    out = {}\n",
    "    model.eval()\n",
    "    for split in ['train', 'val']:\n",
    "        losses = torch.zeros(eval_iters)\n",
    "        for k in range(eval_iters):\n",
    "            x, y, x_ans, y_ans = get_batches(questions, answers) if split == 'train' else get_batches(questions_val, answers_val)\n",
    "            logits, loss = model(x, y, x_ans)\n",
    "            losses[k] = loss.item()\n",
    "        out[split] = losses.mean()\n",
    "    model.train()\n",
    "    return out"
   ],
   "metadata": {
    "collapsed": false,
    "ExecuteTime": {
     "end_time": "2024-04-08T21:34:44.093007434Z",
     "start_time": "2024-04-08T21:34:43.934559637Z"
    }
   },
   "id": "98b115d0c225d802",
   "execution_count": 268
  },
  {
   "cell_type": "code",
   "outputs": [],
   "source": [
    "import os\n",
    "\n",
    "\n",
    "def notify_end_of_cell(message=\"Cell execution completed!\"):\n",
    "    os.system(f'notify-send \"Jupyter Cell Notification\" \"{message}\"')"
   ],
   "metadata": {
    "collapsed": false,
    "ExecuteTime": {
     "end_time": "2024-04-08T21:34:44.105344231Z",
     "start_time": "2024-04-08T21:34:43.977141155Z"
    }
   },
   "id": "71db8c4f4cc58692",
   "execution_count": 269
  },
  {
   "cell_type": "code",
   "outputs": [],
   "source": [
    "m = EncoderDecoder()"
   ],
   "metadata": {
    "collapsed": false,
    "ExecuteTime": {
     "end_time": "2024-04-08T21:34:44.142276457Z",
     "start_time": "2024-04-08T21:34:44.095066526Z"
    }
   },
   "id": "a13a2c9eb8ff02d2",
   "execution_count": 270
  },
  {
   "cell_type": "code",
   "outputs": [
    {
     "name": "stdout",
     "output_type": "stream",
     "text": [
      "Iter 0, train loss: 4.699, val loss: 4.698\n",
      "Iter 5, train loss: 4.202, val loss: 4.210\n",
      "Iter 10, train loss: 3.752, val loss: 3.779\n",
      "Iter 15, train loss: 3.389, val loss: 3.424\n",
      "Iter 20, train loss: 3.091, val loss: 3.117\n",
      "Iter 25, train loss: 2.846, val loss: 2.892\n",
      "Iter 30, train loss: 2.655, val loss: 2.707\n",
      "Iter 35, train loss: 2.510, val loss: 2.538\n",
      "Iter 40, train loss: 2.375, val loss: 2.410\n",
      "Iter 45, train loss: 2.270, val loss: 2.312\n",
      "Iter 50, train loss: 2.179, val loss: 2.241\n",
      "Iter 55, train loss: 2.096, val loss: 2.158\n",
      "Iter 60, train loss: 2.026, val loss: 2.064\n",
      "Iter 65, train loss: 1.966, val loss: 2.003\n",
      "Iter 70, train loss: 1.897, val loss: 1.948\n",
      "Iter 75, train loss: 1.853, val loss: 1.902\n",
      "Iter 80, train loss: 1.809, val loss: 1.846\n",
      "Iter 85, train loss: 1.747, val loss: 1.810\n",
      "Iter 90, train loss: 1.695, val loss: 1.751\n",
      "Iter 95, train loss: 1.669, val loss: 1.750\n",
      "Iter 100, train loss: 1.641, val loss: 1.707\n",
      "Iter 105, train loss: 1.605, val loss: 1.654\n",
      "Iter 110, train loss: 1.585, val loss: 1.648\n",
      "Iter 115, train loss: 1.548, val loss: 1.615\n",
      "Iter 120, train loss: 1.533, val loss: 1.588\n",
      "Iter 125, train loss: 1.504, val loss: 1.577\n",
      "Iter 130, train loss: 1.496, val loss: 1.541\n",
      "Iter 135, train loss: 1.456, val loss: 1.542\n",
      "Iter 140, train loss: 1.477, val loss: 1.543\n",
      "Iter 145, train loss: 1.435, val loss: 1.498\n",
      "Iter 150, train loss: 1.430, val loss: 1.479\n",
      "Iter 155, train loss: 1.414, val loss: 1.480\n",
      "Iter 160, train loss: 1.412, val loss: 1.481\n",
      "Iter 165, train loss: 1.388, val loss: 1.471\n",
      "Iter 170, train loss: 1.400, val loss: 1.460\n",
      "Iter 175, train loss: 1.392, val loss: 1.437\n",
      "Iter 180, train loss: 1.369, val loss: 1.455\n",
      "Iter 185, train loss: 1.360, val loss: 1.440\n",
      "Iter 190, train loss: 1.357, val loss: 1.418\n",
      "Iter 195, train loss: 1.326, val loss: 1.414\n",
      "Iter 200, train loss: 1.356, val loss: 1.426\n",
      "Iter 205, train loss: 1.340, val loss: 1.368\n",
      "Iter 210, train loss: 1.337, val loss: 1.395\n",
      "Iter 215, train loss: 1.330, val loss: 1.387\n",
      "Iter 220, train loss: 1.314, val loss: 1.375\n",
      "Iter 225, train loss: 1.329, val loss: 1.398\n",
      "Iter 230, train loss: 1.313, val loss: 1.372\n",
      "Iter 235, train loss: 1.313, val loss: 1.366\n",
      "Iter 240, train loss: 1.330, val loss: 1.342\n",
      "Iter 245, train loss: 1.299, val loss: 1.345\n"
     ]
    }
   ],
   "source": [
    "optimizer = torch.optim.Adam(m.parameters(), lr=0.0003)\n",
    "\n",
    "history = []\n",
    "eval_interval = 5\n",
    "max_iter = 250\n",
    "for iter in range(max_iter):\n",
    "    if iter % eval_interval == 0:\n",
    "        losses = estimate_loss(m)\n",
    "        history.append((iter, losses))\n",
    "        print(f'Iter {iter}, train loss: {losses[\"train\"]:.3f}, val loss: {losses[\"val\"]:.3f}')\n",
    "\n",
    "    x, y, x_ans, y_ans = get_batches(questions, answers)\n",
    "    logits, loss = m(x, y, x_ans)\n",
    "    optimizer.zero_grad(set_to_none=True)\n",
    "    loss.backward()\n",
    "    optimizer.step()\n",
    "notify_end_of_cell()"
   ],
   "metadata": {
    "collapsed": false,
    "ExecuteTime": {
     "end_time": "2024-04-08T21:39:25.181108387Z",
     "start_time": "2024-04-08T21:34:44.111785914Z"
    }
   },
   "id": "873ab0ac2df82323",
   "execution_count": 271
  },
  {
   "cell_type": "code",
   "outputs": [
    {
     "data": {
      "text/plain": "[<matplotlib.lines.Line2D at 0x722e62241490>]"
     },
     "execution_count": 272,
     "metadata": {},
     "output_type": "execute_result"
    },
    {
     "data": {
      "text/plain": "<Figure size 2500x500 with 1 Axes>",
      "image/png": "[encoded data removed]"
     },
     "metadata": {},
     "output_type": "display_data"
    }
   ],
   "source": [
    "import matplotlib.pyplot as plt\n",
    "\n",
    "plt.figure(figsize=(25, 5))\n",
    "\n",
    "x = [h[0] for h in history]\n",
    "y = [h[1]['train'] for h in history]\n",
    "y_val = [h[1]['val'] for h in history]\n",
    "plt.plot(x, y, label='train')\n",
    "plt.plot(x, y_val, label='val')"
   ],
   "metadata": {
    "collapsed": false,
    "ExecuteTime": {
     "end_time": "2024-04-08T21:39:25.343642959Z",
     "start_time": "2024-04-08T21:39:25.195567235Z"
    }
   },
   "id": "11094736f4f7ede6",
   "execution_count": 272
  },
  {
   "cell_type": "code",
   "outputs": [
    {
     "name": "stdout",
     "output_type": "stream",
     "text": [
      "tensor([[1]])\n",
      "tensor([[1, 0]])\n",
      "tensor([[1, 0, 0]])\n",
      "tensor([[ 1,  0,  0, 11]])\n",
      "tensor([[ 1,  0,  0, 11, 52]])\n",
      "@$$ne$\n"
     ]
    }
   ],
   "source": [
    "prompt = 'where is Perpignan located?'\n",
    "prompt = torch.tensor(truncate_sequences([encode(prompt)], seq_len))\n",
    "idx = torch.ones((1, 1), dtype=torch.long)\n",
    "print(decode(m.generate(prompt, idx, 5)[0].tolist()))"
   ],
   "metadata": {
    "collapsed": false,
    "ExecuteTime": {
     "end_time": "2024-04-08T21:39:25.489957070Z",
     "start_time": "2024-04-08T21:39:25.344036318Z"
    }
   },
   "id": "c266e5c673669841",
   "execution_count": 273
  },
  {
   "cell_type": "code",
   "outputs": [],
   "source": [
    "torch.save(m.state_dict(), './models/parallel_checkpoints_64_2.pth')"
   ],
   "metadata": {
    "collapsed": false,
    "ExecuteTime": {
     "end_time": "2024-04-08T21:39:25.560180234Z",
     "start_time": "2024-04-08T21:39:25.438732490Z"
    }
   },
   "id": "21360823cf1ce48f",
   "execution_count": 274
  }
 ],
 "metadata": {
  "kernelspec": {
   "display_name": "Python 3",
   "language": "python",
   "name": "python3"
  },
  "language_info": {
   "codemirror_mode": {
    "name": "ipython",
    "version": 3
   },
   "file_extension": ".py",
   "mimetype": "text/x-python",
   "name": "python",
   "nbconvert_exporter": "python",
   "pygments_lexer": "ipython3",
   "version": "3.11.5"
  }
 },
 "nbformat": 4,
 "nbformat_minor": 5
}
