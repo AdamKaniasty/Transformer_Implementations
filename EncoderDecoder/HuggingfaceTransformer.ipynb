{
 "cells": [
  {
   "cell_type": "code",
   "execution_count": 50,
   "id": "initial_id",
   "metadata": {
    "collapsed": true,
    "ExecuteTime": {
     "end_time": "2024-04-10T17:01:17.036614388Z",
     "start_time": "2024-04-10T17:01:17.005608824Z"
    }
   },
   "outputs": [],
   "source": [
    "import pandas as pd\n",
    "\n",
    "train = pd.read_json('data/trainmodel.json')\n",
    "validate = pd.read_json('data/val.json')\n",
    "\n",
    "train['answers'] = train['answers'].apply(lambda x: x[0])\n",
    "validate['answers'] = validate['answers'].apply(lambda x: x[0])"
   ]
  },
  {
   "cell_type": "code",
   "outputs": [],
   "source": [
    "questions = train['qText'].values\n",
    "answers = train['answers'].values\n",
    "questions_val = validate['qText'].values\n",
    "answers_val = validate['answers'].values\n"
   ],
   "metadata": {
    "collapsed": false,
    "ExecuteTime": {
     "end_time": "2024-04-10T17:01:17.068300889Z",
     "start_time": "2024-04-10T17:01:17.065234558Z"
    }
   },
   "id": "b98b9bc30a4ff904",
   "execution_count": 51
  },
  {
   "cell_type": "code",
   "outputs": [],
   "source": [
    "from transformers import BertTokenizer\n",
    "\n",
    "tokenizer = BertTokenizer.from_pretrained('bert-base-uncased')\n",
    "\n",
    "\n",
    "def tokenize(batch):\n",
    "    return tokenizer(list(batch), padding=True, truncation=True, return_tensors='pt', max_length=64)\n",
    "\n",
    "\n",
    "questions_tokens = tokenize(questions)\n",
    "answers_tokens = tokenize(answers)\n",
    "questions_val_tokens = tokenize(questions_val)\n",
    "answers_val_tokens = tokenize(answers_val)"
   ],
   "metadata": {
    "collapsed": false,
    "ExecuteTime": {
     "end_time": "2024-04-10T17:01:20.298695102Z",
     "start_time": "2024-04-10T17:01:19.200253400Z"
    }
   },
   "id": "dd577c300f6d568c",
   "execution_count": 53
  },
  {
   "cell_type": "code",
   "outputs": [],
   "source": [
    "import torch\n",
    "from torch.utils.data import Dataset, DataLoader\n",
    "\n",
    "\n",
    "class QADataset(Dataset):\n",
    "    def __init__(self, questions_tokens, answers_tokens):\n",
    "        self.questions_tokens = questions_tokens\n",
    "        self.answers_tokens = answers_tokens\n",
    "\n",
    "    def __len__(self):\n",
    "        return len(self.questions_tokens['input_ids'])\n",
    "\n",
    "    def __getitem__(self, idx):\n",
    "        question = {\n",
    "            key: val[idx] for key, val in self.questions_tokens.items()\n",
    "        }\n",
    "        answer = {\n",
    "            key: val[idx] for key, val in self.answers_tokens.items()\n",
    "        }\n",
    "        return question, answer"
   ],
   "metadata": {
    "collapsed": false,
    "ExecuteTime": {
     "end_time": "2024-04-10T17:01:20.303683739Z",
     "start_time": "2024-04-10T17:01:20.300993122Z"
    }
   },
   "id": "cd6b5220453b366e",
   "execution_count": 54
  },
  {
   "cell_type": "code",
   "outputs": [],
   "source": [
    "from transformers import BertConfig, EncoderDecoderConfig, EncoderDecoderModel\n",
    "\n",
    "config_encoder = BertConfig()\n",
    "config_decoder = BertConfig()\n",
    "\n",
    "config = EncoderDecoderConfig.from_encoder_decoder_configs(config_encoder, config_decoder)\n",
    "model = EncoderDecoderModel(config=config)\n",
    "model.config.decoder_start_token_id = tokenizer.cls_token_id\n",
    "model.config.eos_token_id = tokenizer.sep_token_id\n",
    "model.config.pad_token_id = tokenizer.pad_token_id"
   ],
   "metadata": {
    "collapsed": false,
    "ExecuteTime": {
     "end_time": "2024-04-10T17:02:11.830408557Z",
     "start_time": "2024-04-10T17:02:09.370405416Z"
    }
   },
   "id": "33e039907ae1d60c",
   "execution_count": 60
  },
  {
   "cell_type": "code",
   "outputs": [
    {
     "name": "stderr",
     "output_type": "stream",
     "text": [
      "/home/adam/anaconda3/lib/python3.11/site-packages/transformers/models/encoder_decoder/modeling_encoder_decoder.py:642: FutureWarning: Version v4.12.0 introduces a better way to train encoder-decoder models by computing the loss inside the encoder-decoder framework rather than in the decoder itself. You may observe training discrepancies if fine-tuning a model trained with versions anterior to 4.12.0. The decoder_input_ids are now created based on the labels, no need to pass them yourself anymore.\n",
      "  warnings.warn(DEPRECATION_WARNING, FutureWarning)\n"
     ]
    }
   ],
   "source": [
    "learning_rate = 5e-5\n",
    "batch_size = 16\n",
    "epochs = 5\n",
    "\n",
    "train_dataset = QADataset(questions_tokens[:256], answers_tokens[:256])\n",
    "train_loader = DataLoader(train_dataset, batch_size=batch_size, shuffle=True)\n",
    "optimizer = torch.optim.AdamW(model.parameters(), lr=learning_rate)\n",
    "history = []\n",
    "for epoch in range(epochs):\n",
    "    total_loss = 0\n",
    "    for batch in train_loader:\n",
    "        questions, answers = batch\n",
    "        input_ids = questions['input_ids']\n",
    "        labels = answers['input_ids'].clone()\n",
    "        attention_mask = questions['attention_mask']\n",
    "        outputs = outputs = model(\n",
    "            input_ids=input_ids,\n",
    "            attention_mask=attention_mask,\n",
    "            labels=labels\n",
    "        )\n",
    "        loss = outputs.loss\n",
    "        total_loss += loss.item()\n",
    "        loss.backward()\n",
    "        optimizer.step()\n",
    "        optimizer.zero_grad()\n",
    "        break\n",
    "    history.append(total_loss / len(train_loader))\n",
    "    print(f'Epoch {epoch + 1}/{epochs}, Loss: {total_loss / len(train_loader)}')\n"
   ],
   "metadata": {
    "collapsed": false,
    "is_executing": true,
    "ExecuteTime": {
     "start_time": "2024-04-10T17:02:46.543738028Z"
    }
   },
   "id": "a9cf0065be24dbf4",
   "execution_count": null
  },
  {
   "cell_type": "code",
   "outputs": [],
   "source": [
    "model.eval()\n",
    "\n",
    "questions, answers = next(iter(train_loader))\n",
    "outputs = model(input_ids=questions['input_ids'],\n",
    "                decoder_input_ids=answers['input_ids'],\n",
    "                attention_mask=questions['attention_mask'])\n",
    "logits = outputs.logits\n",
    "predictions = torch.argmax(logits, dim=2)\n",
    "predicted_text = tokenizer.batch_decode(predictions)\n",
    "predicted_text"
   ],
   "metadata": {
    "collapsed": false,
    "is_executing": true
   },
   "id": "e0ea46b4fd7671fd",
   "execution_count": null
  },
  {
   "cell_type": "code",
   "outputs": [],
   "source": [],
   "metadata": {
    "collapsed": false,
    "ExecuteTime": {
     "end_time": "2024-04-10T17:01:20.447170231Z",
     "start_time": "2024-04-10T17:01:20.446818241Z"
    }
   },
   "id": "b44cbf6c632ef095",
   "execution_count": null
  }
 ],
 "metadata": {
  "kernelspec": {
   "display_name": "Python 3",
   "language": "python",
   "name": "python3"
  },
  "language_info": {
   "codemirror_mode": {
    "name": "ipython",
    "version": 2
   },
   "file_extension": ".py",
   "mimetype": "text/x-python",
   "name": "python",
   "nbconvert_exporter": "python",
   "pygments_lexer": "ipython2",
   "version": "2.7.6"
  }
 },
 "nbformat": 4,
 "nbformat_minor": 5
}
