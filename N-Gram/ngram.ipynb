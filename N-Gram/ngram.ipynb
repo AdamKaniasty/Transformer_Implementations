{
 "cells": [
  {
   "cell_type": "code",
   "execution_count": 16,
   "id": "initial_id",
   "metadata": {
    "collapsed": true,
    "ExecuteTime": {
     "end_time": "2024-04-27T22:12:04.106821182Z",
     "start_time": "2024-04-27T22:12:04.104015966Z"
    }
   },
   "outputs": [],
   "source": [
    "import re\n",
    "\n",
    "import numpy as np"
   ]
  },
  {
   "cell_type": "code",
   "outputs": [],
   "source": [
    "with open(\"../datasets/shakespeare.txt\", \"r\") as f:\n",
    "    data = f.read()\n",
    "\n",
    "train = data[round(len(data) * 0.7):]\n",
    "test = data[:round(len(data) * 0.3)]"
   ],
   "metadata": {
    "collapsed": false,
    "ExecuteTime": {
     "end_time": "2024-04-27T22:12:04.130009706Z",
     "start_time": "2024-04-27T22:12:04.107751445Z"
    }
   },
   "id": "47a09177f8700859",
   "execution_count": 17
  },
  {
   "cell_type": "code",
   "outputs": [
    {
     "name": "stdout",
     "output_type": "stream",
     "text": [
      "Vocab: 7189\n"
     ]
    }
   ],
   "source": [
    "import nltk\n",
    "\n",
    "START = '<S>'\n",
    "END = '</S>'\n",
    "NEWLINE = ' NEWLINE '\n",
    "PAD = ' PAD '\n",
    "train = train.replace('\\n', NEWLINE)\n",
    "vocab = np.append(np.unique(nltk.word_tokenize(train)), [START, END, NEWLINE, PAD])\n",
    "V = len(vocab)\n",
    "print(\"Vocab:\", V)"
   ],
   "metadata": {
    "collapsed": false,
    "ExecuteTime": {
     "end_time": "2024-04-27T22:12:04.414188551Z",
     "start_time": "2024-04-27T22:12:04.166145791Z"
    }
   },
   "id": "13678e89ce62bf32",
   "execution_count": 18
  },
  {
   "cell_type": "code",
   "outputs": [],
   "source": [
    "encoder = {}\n",
    "decoder = {}\n",
    "\n",
    "for index, word in enumerate(vocab):\n",
    "    encoder[word] = index\n",
    "    decoder[index] = word\n",
    "\n",
    "train_tokenized = nltk.word_tokenize(train)\n",
    "N = len(train_tokenized)"
   ],
   "metadata": {
    "collapsed": false,
    "ExecuteTime": {
     "end_time": "2024-04-27T22:23:37.332393314Z",
     "start_time": "2024-04-27T22:23:37.068338491Z"
    }
   },
   "id": "7df57b2d2d4dc2a7",
   "execution_count": 84
  },
  {
   "cell_type": "code",
   "outputs": [],
   "source": [
    "import random\n",
    "\n",
    "\n",
    "def sample_word(prob_dict):\n",
    "    words = list(prob_dict.keys())\n",
    "    probabilities = list(prob_dict.values())\n",
    "    chosen_word = random.choices(words, weights=probabilities, k=1)[0]\n",
    "    return chosen_word"
   ],
   "metadata": {
    "collapsed": false,
    "ExecuteTime": {
     "end_time": "2024-04-27T22:41:38.644843299Z",
     "start_time": "2024-04-27T22:41:38.640867476Z"
    }
   },
   "id": "cbd7642e8f3720f",
   "execution_count": 175
  },
  {
   "cell_type": "code",
   "outputs": [
    {
     "name": "stdout",
     "output_type": "stream",
     "text": [
      "{'NEWLINE': 0.06451612903225806, '': 0.0967741935483871, 'for': 0.03225806451612903, 'in': 0.03225806451612903, \"honour'd\": 0.03225806451612903, 'sir,': 0.03225806451612903, 'ess': 0.03225806451612903, 'and': 0.0967741935483871, 'father!': 0.03225806451612903, 'to': 0.03225806451612903, 'Pompey!': 0.03225806451612903, 'an,': 0.03225806451612903, 'lord:': 0.06451612903225806, 'gentleman': 0.03225806451612903, 'ladies': 0.03225806451612903, 'lord': 0.03225806451612903, 'lord,': 0.06451612903225806, 'lord?': 0.03225806451612903, 'gentleman,': 0.03225806451612903, 'gentleman.': 0.03225806451612903, 'creature': 0.03225806451612903, 'stooping.': 0.03225806451612903, 'Neapolitan,': 0.03225806451612903, 'master!': 0.03225806451612903}\n",
      "{'so': 0.3333333333333333, 'NEWLINE': 0.3333333333333333, 'well-warranted': 0.3333333333333333}\n",
      "{'walk:': 0.018867924528301886, 'The': 0.03773584905660377, 'pipe;': 0.018867924528301886, 'toads': 0.018867924528301886, 'change': 0.018867924528301886, 'what': 0.018867924528301886, \"Destroy'd\": 0.018867924528301886, 'Have': 0.018867924528301886, 'Her': 0.018867924528301886, 'I': 0.018867924528301886, 'in': 0.018867924528301886, 'daughters': 0.018867924528301886, 'think': 0.018867924528301886, 'called': 0.018867924528301886, 'the': 0.03773584905660377, 'so': 0.03773584905660377, 'franklins': 0.018867924528301886, 'that': 0.018867924528301886, 'From': 0.018867924528301886, 'all': 0.03773584905660377, 'being': 0.018867924528301886, 'by': 0.018867924528301886, 'renowned': 0.018867924528301886, 'silence': 0.018867924528301886, 'furred': 0.018867924528301886, 'extracting': 0.018867924528301886, 'woman': 0.018867924528301886, 'his': 0.018867924528301886, 'advised': 0.018867924528301886, 'your': 0.018867924528301886, 'redeliver': 0.018867924528301886, 'against': 0.018867924528301886, 'Knows': 0.018867924528301886, 'enforce': 0.018867924528301886, 'much': 0.018867924528301886, 'with': 0.018867924528301886, 'Wherein': 0.018867924528301886, 'bridegroom': 0.018867924528301886, 'myself,': 0.018867924528301886, 'therefore': 0.018867924528301886, 'mistress': 0.018867924528301886, 'sewed': 0.018867924528301886, 'then': 0.018867924528301886, 'A': 0.018867924528301886, 'She': 0.018867924528301886, 'And': 0.018867924528301886, 'glosses,': 0.018867924528301886, 'did': 0.018867924528301886, 'My': 0.018867924528301886}\n",
      "{\"'s\": 0.109375, 'portion': 0.015625, 'and': 0.015625, 'eye,': 0.015625, '': 0.375, 'brother,': 0.015625, 'natural': 0.015625, 'ione': 0.015625, 'elf': 0.015625, ',': 0.140625, 'madness': 0.015625, 'shall': 0.015625, \"brother's\": 0.015625, 'eldest': 0.015625, 'only': 0.015625, 'father': 0.03125, 'name': 0.015625, 'silence': 0.015625, 'affability': 0.015625, 'wondrous': 0.015625, 'widowhood,': 0.015625, 'sister': 0.015625, \"father's\": 0.015625, '.': 0.015625, 'dowery': 0.015625, 'new-built': 0.015625}\n",
      "{}\n"
     ]
    },
    {
     "ename": "IndexError",
     "evalue": "list index out of range",
     "output_type": "error",
     "traceback": [
      "\u001B[0;31m---------------------------------------------------------------------------\u001B[0m",
      "\u001B[0;31mIndexError\u001B[0m                                Traceback (most recent call last)",
      "Cell \u001B[0;32mIn[176], line 22\u001B[0m\n\u001B[1;32m     20\u001B[0m         p_matrix[word] \u001B[38;5;241m/\u001B[39m\u001B[38;5;241m=\u001B[39m total\n\u001B[1;32m     21\u001B[0m     \u001B[38;5;28mprint\u001B[39m(p_matrix)\n\u001B[0;32m---> 22\u001B[0m     word \u001B[38;5;241m=\u001B[39m sample_word(p_matrix)\n\u001B[1;32m     23\u001B[0m     s\u001B[38;5;241m.\u001B[39mappend(word)\n\u001B[1;32m     25\u001B[0m \u001B[38;5;28mprint\u001B[39m(\u001B[38;5;124m'\u001B[39m\u001B[38;5;124m \u001B[39m\u001B[38;5;124m'\u001B[39m\u001B[38;5;241m.\u001B[39mjoin([x\u001B[38;5;241m.\u001B[39mreplace(\u001B[38;5;124m'\u001B[39m\u001B[38;5;124mNEWLINE\u001B[39m\u001B[38;5;124m'\u001B[39m, \u001B[38;5;124m'\u001B[39m\u001B[38;5;130;01m\\n\u001B[39;00m\u001B[38;5;124m'\u001B[39m) \u001B[38;5;28;01mfor\u001B[39;00m x \u001B[38;5;129;01min\u001B[39;00m s]))\n",
      "Cell \u001B[0;32mIn[175], line 6\u001B[0m, in \u001B[0;36msample_word\u001B[0;34m(prob_dict)\u001B[0m\n\u001B[1;32m      4\u001B[0m words \u001B[38;5;241m=\u001B[39m \u001B[38;5;28mlist\u001B[39m(prob_dict\u001B[38;5;241m.\u001B[39mkeys())\n\u001B[1;32m      5\u001B[0m probabilities \u001B[38;5;241m=\u001B[39m \u001B[38;5;28mlist\u001B[39m(prob_dict\u001B[38;5;241m.\u001B[39mvalues())\n\u001B[0;32m----> 6\u001B[0m chosen_word \u001B[38;5;241m=\u001B[39m random\u001B[38;5;241m.\u001B[39mchoices(words, weights\u001B[38;5;241m=\u001B[39mprobabilities, k\u001B[38;5;241m=\u001B[39m\u001B[38;5;241m1\u001B[39m)[\u001B[38;5;241m0\u001B[39m]\n\u001B[1;32m      7\u001B[0m \u001B[38;5;28;01mreturn\u001B[39;00m chosen_word\n",
      "File \u001B[0;32m~/anaconda3/lib/python3.11/random.py:507\u001B[0m, in \u001B[0;36mRandom.choices\u001B[0;34m(self, population, weights, cum_weights, k)\u001B[0m\n\u001B[1;32m    505\u001B[0m \u001B[38;5;28;01mif\u001B[39;00m \u001B[38;5;28mlen\u001B[39m(cum_weights) \u001B[38;5;241m!=\u001B[39m n:\n\u001B[1;32m    506\u001B[0m     \u001B[38;5;28;01mraise\u001B[39;00m \u001B[38;5;167;01mValueError\u001B[39;00m(\u001B[38;5;124m'\u001B[39m\u001B[38;5;124mThe number of weights does not match the population\u001B[39m\u001B[38;5;124m'\u001B[39m)\n\u001B[0;32m--> 507\u001B[0m total \u001B[38;5;241m=\u001B[39m cum_weights[\u001B[38;5;241m-\u001B[39m\u001B[38;5;241m1\u001B[39m] \u001B[38;5;241m+\u001B[39m \u001B[38;5;241m0.0\u001B[39m   \u001B[38;5;66;03m# convert to float\u001B[39;00m\n\u001B[1;32m    508\u001B[0m \u001B[38;5;28;01mif\u001B[39;00m total \u001B[38;5;241m<\u001B[39m\u001B[38;5;241m=\u001B[39m \u001B[38;5;241m0.0\u001B[39m:\n\u001B[1;32m    509\u001B[0m     \u001B[38;5;28;01mraise\u001B[39;00m \u001B[38;5;167;01mValueError\u001B[39;00m(\u001B[38;5;124m'\u001B[39m\u001B[38;5;124mTotal of weights must be greater than zero\u001B[39m\u001B[38;5;124m'\u001B[39m)\n",
      "\u001B[0;31mIndexError\u001B[0m: list index out of range"
     ]
    }
   ],
   "source": [
    "import re\n",
    "\n",
    "seq_len = 2\n",
    "# s = [np.random.choice(vocab)]\n",
    "s = ['noble']\n",
    "for _ in range(10):\n",
    "    seq = s[-seq_len:]\n",
    "    p_matrix = {}\n",
    "    total = 0\n",
    "    pattern = ' '.join(seq)\n",
    "    for match in re.finditer(pattern, train):\n",
    "        next_word = train[match.end() + 1:].split(' ')[0]\n",
    "        if next_word not in p_matrix:\n",
    "            p_matrix[next_word] = 1\n",
    "        else:\n",
    "            p_matrix[next_word] += 1\n",
    "        total += 1\n",
    "\n",
    "    for word in p_matrix:\n",
    "        p_matrix[word] /= total\n",
    "\n",
    "    word = sample_word(p_matrix)\n",
    "    s.append(word)\n",
    "\n",
    "print(' '.join([x.replace('NEWLINE', '\\n') for x in s]))"
   ],
   "metadata": {
    "collapsed": false,
    "ExecuteTime": {
     "end_time": "2024-04-27T22:41:39.175428489Z",
     "start_time": "2024-04-27T22:41:39.018691942Z"
    }
   },
   "id": "5cbee558437285fd",
   "execution_count": 176
  },
  {
   "cell_type": "code",
   "outputs": [],
   "source": [],
   "metadata": {
    "collapsed": false,
    "ExecuteTime": {
     "end_time": "2024-04-27T22:38:31.618715685Z",
     "start_time": "2024-04-27T22:38:31.504300150Z"
    }
   },
   "id": "19a2330c63de1c42",
   "execution_count": 150
  }
 ],
 "metadata": {
  "kernelspec": {
   "display_name": "Python 3",
   "language": "python",
   "name": "python3"
  },
  "language_info": {
   "codemirror_mode": {
    "name": "ipython",
    "version": 2
   },
   "file_extension": ".py",
   "mimetype": "text/x-python",
   "name": "python",
   "nbconvert_exporter": "python",
   "pygments_lexer": "ipython2",
   "version": "2.7.6"
  }
 },
 "nbformat": 4,
 "nbformat_minor": 5
}
