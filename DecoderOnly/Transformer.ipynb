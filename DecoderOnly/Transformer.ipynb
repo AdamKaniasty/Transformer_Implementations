{
 "cells": [
  {
   "cell_type": "code",
   "execution_count": 163,
   "id": "fd83109d27cae1db",
   "metadata": {
    "collapsed": false,
    "ExecuteTime": {
     "end_time": "2024-03-22T15:01:56.103470054Z",
     "start_time": "2024-03-22T15:01:56.096385081Z"
    }
   },
   "outputs": [],
   "source": [
    "with open(\"input.txt\", encoding='utf-8') as f:\n",
    "    text = f.read()\n",
    "\n",
    "vocab_size = len(set(text))"
   ]
  },
  {
   "cell_type": "code",
   "execution_count": 164,
   "id": "56d610e0a443e539",
   "metadata": {
    "collapsed": false,
    "ExecuteTime": {
     "end_time": "2024-03-22T15:01:56.131312621Z",
     "start_time": "2024-03-22T15:01:56.104628657Z"
    }
   },
   "outputs": [],
   "source": [
    "encoder_map = {c: i for i, c in enumerate(set(text))}\n",
    "decoder_map = {i: c for i, c in enumerate(set(text))}\n",
    "\n",
    "encode = lambda x: [encoder_map[c] for c in x]\n",
    "decode = lambda x: ''.join([decoder_map[i] for i in x])"
   ]
  },
  {
   "cell_type": "code",
   "outputs": [
    {
     "data": {
      "text/plain": "([51, 31, 28, 30, 45, 28, 30, 18, 52, 63, 8], 'Test string')"
     },
     "execution_count": 165,
     "metadata": {},
     "output_type": "execute_result"
    }
   ],
   "source": [
    "encode(\"Test string\"), decode(encode(\"Test string\"))"
   ],
   "metadata": {
    "collapsed": false,
    "ExecuteTime": {
     "end_time": "2024-03-22T15:01:56.175348670Z",
     "start_time": "2024-03-22T15:01:56.174766628Z"
    }
   },
   "id": "d2d306d750fdb8c",
   "execution_count": 165
  },
  {
   "cell_type": "code",
   "outputs": [
    {
     "data": {
      "text/plain": "tensor([56, 52, 18, 28, 30, 45, 34, 52, 30, 52, 22, 31, 63, 17, 12, 46, 31, 10,\n         7, 18, 31, 45, 39, 31, 45])"
     },
     "execution_count": 166,
     "metadata": {},
     "output_type": "execute_result"
    }
   ],
   "source": [
    "import torch\n",
    "\n",
    "data = torch.tensor(encode(text), dtype=torch.long)\n",
    "data[:25]"
   ],
   "metadata": {
    "collapsed": false,
    "ExecuteTime": {
     "end_time": "2024-03-22T15:01:56.211211374Z",
     "start_time": "2024-03-22T15:01:56.174920366Z"
    }
   },
   "id": "487fe73283f4f9d4",
   "execution_count": 166
  },
  {
   "cell_type": "code",
   "outputs": [],
   "source": [
    "split = int(len(data) * 0.8)\n",
    "train_data, val_data = data[:split], data[split:]"
   ],
   "metadata": {
    "collapsed": false,
    "ExecuteTime": {
     "end_time": "2024-03-22T15:01:56.212710357Z",
     "start_time": "2024-03-22T15:01:56.209870088Z"
    }
   },
   "id": "daf08d09f4a66428",
   "execution_count": 167
  },
  {
   "cell_type": "code",
   "outputs": [],
   "source": [
    "torch.manual_seed(2115)\n",
    "batch_size = 4\n",
    "seq_len = 8\n",
    "n_embed = 32\n",
    "\n",
    "\n",
    "def get_batches(mode):\n",
    "    bath_data = train_data if mode == 'train' else val_data\n",
    "    idx = torch.randint(0, len(bath_data) - seq_len, (batch_size,))\n",
    "    x = torch.stack([bath_data[i:i + seq_len] for i in idx])\n",
    "    y = torch.stack([bath_data[i + 1:i + seq_len + 1] for i in idx])\n",
    "    return x, y\n",
    "\n",
    "\n",
    "xb, yb = get_batches('train')"
   ],
   "metadata": {
    "collapsed": false,
    "ExecuteTime": {
     "end_time": "2024-03-22T15:01:56.272740703Z",
     "start_time": "2024-03-22T15:01:56.214351746Z"
    }
   },
   "id": "38603cf7231ae894",
   "execution_count": 168
  },
  {
   "cell_type": "code",
   "outputs": [],
   "source": [
    "import torch.nn as nn\n",
    "from torch.nn import functional as F\n",
    "\n",
    "\n",
    "class Head(nn.Module):\n",
    "    def __init__(self, head_size):\n",
    "        super().__init__()\n",
    "        self.key = nn.Linear(n_embed, head_size, bias=False)\n",
    "        self.query = nn.Linear(n_embed, head_size, bias=False)\n",
    "        self.value = nn.Linear(n_embed, head_size, bias=False)\n",
    "        self.register_buffer('tril', torch.tril(torch.ones(seq_len, seq_len)))\n",
    "        self.head_size = head_size\n",
    "\n",
    "    def forward(self, x):\n",
    "        B, T, C = x.shape\n",
    "        k = self.key(x)\n",
    "        q = self.query(x)\n",
    "        v = self.value(x)\n",
    "        weights = q @ k.transpose(-1, -2) * C ** -0.5\n",
    "        weights = weights.masked_fill(self.tril[:T, : T] == 0, float('-inf'))\n",
    "        weights = F.softmax(weights, dim=-1)\n",
    "        return weights @ v"
   ],
   "metadata": {
    "collapsed": false,
    "ExecuteTime": {
     "end_time": "2024-03-22T15:01:56.273118282Z",
     "start_time": "2024-03-22T15:01:56.263341228Z"
    }
   },
   "id": "7755ea6141bbbcb9",
   "execution_count": 169
  },
  {
   "cell_type": "code",
   "outputs": [],
   "source": [
    "class BigramLanguageModel(nn.Module):\n",
    "\n",
    "    def __init__(self):\n",
    "        super().__init__()\n",
    "        self.token_embedding_table = nn.Embedding(vocab_size, n_embed)\n",
    "        self.position_embedding_table = nn.Embedding(seq_len, n_embed)\n",
    "        self.sa_head = Head(n_embed)\n",
    "        self.lm_head = nn.Linear(n_embed, vocab_size)\n",
    "\n",
    "    def forward(self, idx, targets=None):\n",
    "        B, T = idx.shape\n",
    "        token_embedding = self.token_embedding_table(idx)\n",
    "        position_embedding = self.position_embedding_table(torch.arange(T))\n",
    "        x = token_embedding + position_embedding\n",
    "        x = self.sa_head(x)\n",
    "        logits = self.lm_head(x)\n",
    "\n",
    "        loss = None\n",
    "        if targets is not None:\n",
    "            B, T, C = logits.shape\n",
    "            logits = logits.view(B * T, C)\n",
    "            targets = targets.view(B * T)\n",
    "            loss = F.cross_entropy(logits, targets)\n",
    "\n",
    "        return logits, loss\n",
    "\n",
    "    def generate(self, idx, n):\n",
    "        for _ in range(n):\n",
    "            idx_crop = idx[:, -seq_len:]\n",
    "            logits, _ = self(idx_crop)\n",
    "            logits = logits[:, -1, :]\n",
    "            p = F.softmax(logits, dim=-1)\n",
    "            next_token = torch.multinomial(p, num_samples=1)\n",
    "            idx = torch.cat((idx, next_token), dim=1)\n",
    "        return idx"
   ],
   "metadata": {
    "collapsed": false,
    "ExecuteTime": {
     "end_time": "2024-03-22T15:01:56.273378089Z",
     "start_time": "2024-03-22T15:01:56.263536535Z"
    }
   },
   "id": "a4c34b6342b0c540",
   "execution_count": 170
  },
  {
   "cell_type": "code",
   "outputs": [],
   "source": [
    "m = BigramLanguageModel()"
   ],
   "metadata": {
    "collapsed": false,
    "ExecuteTime": {
     "end_time": "2024-03-22T15:01:56.273627477Z",
     "start_time": "2024-03-22T15:01:56.263605204Z"
    }
   },
   "id": "56546bda66bb7936",
   "execution_count": 171
  },
  {
   "cell_type": "code",
   "outputs": [],
   "source": [
    "@torch.no_grad()\n",
    "def estimate_loss(model, eval_iters=200):\n",
    "    out = {}\n",
    "    model.eval()\n",
    "    for split in ['train', 'val']:\n",
    "        losses = torch.zeros(eval_iters)\n",
    "        for k in range(eval_iters):\n",
    "            X, Y = get_batches(split)\n",
    "            logits, loss = model(X, Y)\n",
    "            losses[k] = loss.item()\n",
    "        out[split] = losses.mean()\n",
    "    model.train()\n",
    "    return out"
   ],
   "metadata": {
    "collapsed": false,
    "ExecuteTime": {
     "end_time": "2024-03-22T15:01:56.273847550Z",
     "start_time": "2024-03-22T15:01:56.263652292Z"
    }
   },
   "id": "98b115d0c225d802",
   "execution_count": 172
  },
  {
   "cell_type": "code",
   "outputs": [],
   "source": [
    "optimizer = torch.optim.Adam(m.parameters(), lr=0.001)\n",
    "\n",
    "batch_size = 32\n",
    "history = []\n",
    "eval_interval = 200\n",
    "max_iter = 2000\n",
    "for iter in range(max_iter):\n",
    "\n",
    "    if iter % eval_interval == 0:\n",
    "        losses = estimate_loss(m)\n",
    "        history.append((iter, losses))\n",
    "\n",
    "    x, y = get_batches('train')\n",
    "    logits, loss = m(x, y)\n",
    "    optimizer.zero_grad(set_to_none=True)\n",
    "    loss.backward()\n",
    "    optimizer.step()"
   ],
   "metadata": {
    "collapsed": false,
    "ExecuteTime": {
     "end_time": "2024-03-22T15:02:03.167471339Z",
     "start_time": "2024-03-22T15:01:56.263700533Z"
    }
   },
   "id": "873ab0ac2df82323",
   "execution_count": 173
  },
  {
   "cell_type": "code",
   "outputs": [
    {
     "data": {
      "text/plain": "[<matplotlib.lines.Line2D at 0x7405a0bede50>]"
     },
     "execution_count": 174,
     "metadata": {},
     "output_type": "execute_result"
    },
    {
     "data": {
      "text/plain": "<Figure size 2500x500 with 1 Axes>",
      "image/png": "[encoded data removed]"
     },
     "metadata": {},
     "output_type": "display_data"
    }
   ],
   "source": [
    "import matplotlib.pyplot as plt\n",
    "\n",
    "plt.figure(figsize=(25, 5))\n",
    "\n",
    "x = [h[0] for h in history]\n",
    "y = [h[1]['train'] for h in history]    \n",
    "y_val = [h[1]['val'] for h in history]\n",
    "plt.plot(x, y, label='train')\n",
    "plt.plot(x, y_val, label='val')"
   ],
   "metadata": {
    "collapsed": false,
    "ExecuteTime": {
     "end_time": "2024-03-22T15:02:03.309777980Z",
     "start_time": "2024-03-22T15:02:03.169925734Z"
    }
   },
   "id": "11094736f4f7ede6",
   "execution_count": 174
  },
  {
   "cell_type": "code",
   "outputs": [
    {
     "name": "stdout",
     "output_type": "stream",
     "text": [
      "qily thane owurr mo that hat wel nmo! nol nove st oitoo peneren\n",
      "O'dloun poerplagemos ay hiss itaveevell blou dofoury theamy I felvyearsoif rl'dd al artoo thepess ate thellife me anderes hisht,\n",
      "A:\n",
      "A\n",
      "Pindebe is, my weam fere\n",
      "ALAper cout oucen wet htbeexro, h-ele, wo woke,\n",
      "Aleailanr den\n",
      "W:\n",
      "\n",
      "rle, hy gheele ng oreBeas hfiseere'gor adps's?\n",
      "\n",
      "GESd\n",
      "BPy yameeit hoemome tas aver guspads ke.\n",
      "Ming Per ole.  dou cte nig bavemabught cosyome che mar thoo thou'd:\n",
      "Wut, thevevefant my tad to se! tcis\n",
      "is ft nigealsh hE;\n",
      "N:\n",
      "ARTheir lok de chivoirt,\n",
      "Fou, yow morods th,\n",
      "WWases.\n",
      "\n",
      "G:\n",
      "CING:\n",
      "Yer, o se geatqio warach:\n",
      "Wale'd:\n",
      "A thean qua wh'stwen\n",
      "Go ree, whe al.\n",
      "\n",
      "Py his fitcuthead nd mecsis I olokulsecut soo hicotures lagr savaldier thaghe arbliths, the sphe ts mormecomo ut pt hadt der to; of orus, Mben cer:\n",
      "Soul vaf dis Son dseeer toalncen hithme\n",
      "Ar hancotpord hot:\n",
      "Foofot e shy motel cad iceawt fha imo kmyoo tha be\n",
      "CI hli aghis dlarm, ndr-y gy kly moungd ang dk-m icuchf le sato dfoous whand Tonk thermy, hmy cay, \n"
     ]
    }
   ],
   "source": [
    "idx = torch.zeros((1, 1), dtype=torch.long)\n",
    "print(decode(m.generate(idx, 1000)[0].tolist()))"
   ],
   "metadata": {
    "collapsed": false,
    "ExecuteTime": {
     "end_time": "2024-03-22T15:02:03.651107320Z",
     "start_time": "2024-03-22T15:02:03.310954497Z"
    }
   },
   "id": "c266e5c673669841",
   "execution_count": 175
  },
  {
   "cell_type": "code",
   "outputs": [],
   "source": [],
   "metadata": {
    "collapsed": false,
    "ExecuteTime": {
     "end_time": "2024-03-22T15:02:03.655422005Z",
     "start_time": "2024-03-22T15:02:03.651157023Z"
    }
   },
   "id": "21360823cf1ce48f",
   "execution_count": 175
  }
 ],
 "metadata": {
  "kernelspec": {
   "display_name": "Python 3",
   "language": "python",
   "name": "python3"
  },
  "language_info": {
   "codemirror_mode": {
    "name": "ipython",
    "version": 3
   },
   "file_extension": ".py",
   "mimetype": "text/x-python",
   "name": "python",
   "nbconvert_exporter": "python",
   "pygments_lexer": "ipython3",
   "version": "3.11.5"
  }
 },
 "nbformat": 4,
 "nbformat_minor": 5
}
