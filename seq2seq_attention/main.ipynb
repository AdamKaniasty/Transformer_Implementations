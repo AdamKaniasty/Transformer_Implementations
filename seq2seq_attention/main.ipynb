{
 "cells": [
  {
   "cell_type": "code",
   "outputs": [],
   "source": [
    "%reload_ext autoreload\n",
    "%autoreload 2\n",
    "\n",
    "import datasets\n",
    "\n",
    "dataset = datasets.load_dataset(\"bentrevett/multi30k\")"
   ],
   "metadata": {
    "collapsed": false,
    "ExecuteTime": {
     "end_time": "2024-06-25T16:09:05.869306088Z",
     "start_time": "2024-06-25T16:09:03.909040196Z"
    }
   },
   "id": "affc446a0602df77",
   "execution_count": 9
  },
  {
   "cell_type": "code",
   "outputs": [],
   "source": [
    "train, val, test = (dataset['train'], dataset['validation'], dataset['test'])"
   ],
   "metadata": {
    "collapsed": false,
    "ExecuteTime": {
     "end_time": "2024-06-25T16:09:05.910533641Z",
     "start_time": "2024-06-25T16:09:05.910059791Z"
    }
   },
   "id": "a0ff7c850d58cd30",
   "execution_count": 10
  },
  {
   "cell_type": "code",
   "outputs": [],
   "source": [
    "import spacy\n",
    "\n",
    "en_nlp = spacy.load(\"en_core_web_sm\")\n",
    "de_nlp = spacy.load(\"de_core_news_sm\")\n",
    "\n",
    "eos_token = '<eos>'\n",
    "sos_token = '<sos>'\n",
    "max_length = 1000\n",
    "\n",
    "\n",
    "def tokenize(text):\n",
    "    en_tokens = [token.text.lower() for token in en_nlp.tokenizer(text['en'])][:max_length]\n",
    "    de_tokens = [token.text.lower() for token in de_nlp.tokenizer(text['de'])][:max_length]\n",
    "    en_tokens = [sos_token] + en_tokens + [eos_token]\n",
    "    de_tokens = [sos_token] + de_tokens + [eos_token]\n",
    "\n",
    "    text['en_tokens'] = en_tokens\n",
    "    text['de_tokens'] = de_tokens\n",
    "\n",
    "    return text"
   ],
   "metadata": {
    "collapsed": false,
    "ExecuteTime": {
     "end_time": "2024-06-25T16:09:07.016349823Z",
     "start_time": "2024-06-25T16:09:05.910259885Z"
    }
   },
   "id": "7849cf87e26d6060",
   "execution_count": 11
  },
  {
   "cell_type": "code",
   "outputs": [],
   "source": [
    "train_data = [tokenize(item) for item in train]\n",
    "val_data = [tokenize(item) for item in val]\n",
    "test_data = [tokenize(item) for item in test]"
   ],
   "metadata": {
    "collapsed": false,
    "ExecuteTime": {
     "end_time": "2024-06-25T16:09:10.317617540Z",
     "start_time": "2024-06-25T16:09:07.017430558Z"
    }
   },
   "id": "97326d81b13819b4",
   "execution_count": 12
  },
  {
   "cell_type": "code",
   "outputs": [],
   "source": [
    "from seq2seq.Vocabulary import Vocabulary\n",
    "\n",
    "min_freq = 2\n",
    "unk_token = '<unk>'\n",
    "pad_token = '<pad>'\n",
    "\n",
    "special_tokens = [\n",
    "    unk_token,\n",
    "    pad_token,\n",
    "    sos_token,\n",
    "    eos_token\n",
    "]\n",
    "\n",
    "en_vocab = Vocabulary([item['en_tokens'] for item in test_data], special_tokens, min_freq=min_freq)\n",
    "de_vocab = Vocabulary([item['de_tokens'] for item in test_data], special_tokens, min_freq=min_freq)"
   ],
   "metadata": {
    "collapsed": false,
    "ExecuteTime": {
     "end_time": "2024-06-25T16:09:10.357821808Z",
     "start_time": "2024-06-25T16:09:10.319016457Z"
    }
   },
   "id": "13854fcb4cfd9a22",
   "execution_count": 13
  },
  {
   "cell_type": "code",
   "outputs": [
    {
     "data": {
      "text/plain": "(546, 473)"
     },
     "execution_count": 14,
     "metadata": {},
     "output_type": "execute_result"
    }
   ],
   "source": [
    "len(en_vocab), len(de_vocab)"
   ],
   "metadata": {
    "collapsed": false,
    "ExecuteTime": {
     "end_time": "2024-06-25T16:09:10.396429709Z",
     "start_time": "2024-06-25T16:09:10.358702249Z"
    }
   },
   "id": "777f8f805852dc04",
   "execution_count": 14
  },
  {
   "cell_type": "code",
   "outputs": [],
   "source": [
    "import torch\n",
    "import torch.nn as nn\n",
    "\n",
    "\n",
    "def encode_texts(item):\n",
    "    item['en_ids'] = torch.Tensor(en_vocab.encode_seq(item['en_tokens']))\n",
    "    item['de_ids'] = torch.Tensor(de_vocab.encode_seq(item['de_tokens']))\n",
    "    return item\n",
    "\n",
    "\n",
    "train_data = [encode_texts(item) for item in train_data]\n",
    "val_data = [encode_texts(item) for item in val_data]\n",
    "test_data = [encode_texts(item) for item in test_data]"
   ],
   "metadata": {
    "collapsed": false,
    "ExecuteTime": {
     "end_time": "2024-06-25T16:14:17.403774640Z",
     "start_time": "2024-06-25T16:14:17.050513447Z"
    }
   },
   "id": "8b2dafbe35fd7ed9",
   "execution_count": 22
  },
  {
   "cell_type": "code",
   "outputs": [],
   "source": [
    "def get_collate(pad_index):\n",
    "    def collate_fn(batch):\n",
    "        batch_en_ids = [example[\"en_ids\"] for example in batch]\n",
    "        batch_de_ids = [example[\"de_ids\"] for example in batch]\n",
    "        batch_en_ids = nn.utils.rnn.pad_sequence(batch_en_ids, padding_value=pad_index)\n",
    "        batch_de_ids = nn.utils.rnn.pad_sequence(batch_de_ids, padding_value=pad_index)\n",
    "        batch = {\n",
    "            \"en_ids\": batch_en_ids,\n",
    "            \"de_ids\": batch_de_ids,\n",
    "        }\n",
    "        return batch\n",
    "\n",
    "    return collate_fn"
   ],
   "metadata": {
    "collapsed": false,
    "ExecuteTime": {
     "end_time": "2024-06-25T16:14:19.368349378Z",
     "start_time": "2024-06-25T16:14:19.328744101Z"
    }
   },
   "id": "88c2e042841fdac5",
   "execution_count": 23
  },
  {
   "cell_type": "code",
   "outputs": [],
   "source": [
    "from torch.utils.data import DataLoader\n",
    "\n",
    "\n",
    "def get_loader(dataset, batch_size, pad_index, shuffle=False):\n",
    "    data_loader = DataLoader(dataset, batch_size=batch_size, collate_fn=get_collate(pad_index), shuffle=shuffle)\n",
    "    return data_loader\n",
    "\n",
    "\n",
    "batch_size = 64\n",
    "pad_index = en_vocab.encode('<pad>')\n",
    "train_loader = get_loader(train_data, batch_size, pad_index, shuffle=True)\n",
    "val_loader = get_loader(val_data, batch_size, pad_index)\n",
    "test_loader = get_loader(test_data, batch_size, pad_index)"
   ],
   "metadata": {
    "collapsed": false,
    "ExecuteTime": {
     "end_time": "2024-06-25T16:19:17.698326583Z",
     "start_time": "2024-06-25T16:19:17.587758432Z"
    }
   },
   "id": "81963fd5356c67e3",
   "execution_count": 38
  },
  {
   "cell_type": "code",
   "outputs": [],
   "source": [],
   "metadata": {
    "collapsed": false
   },
   "id": "a6e6601e26899c2e"
  }
 ],
 "metadata": {
  "kernelspec": {
   "display_name": "Python 3",
   "language": "python",
   "name": "python3"
  },
  "language_info": {
   "codemirror_mode": {
    "name": "ipython",
    "version": 2
   },
   "file_extension": ".py",
   "mimetype": "text/x-python",
   "name": "python",
   "nbconvert_exporter": "python",
   "pygments_lexer": "ipython2",
   "version": "2.7.6"
  }
 },
 "nbformat": 4,
 "nbformat_minor": 5
}
